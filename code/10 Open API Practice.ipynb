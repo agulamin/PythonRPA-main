{
 "cells": [
  {
   "cell_type": "markdown",
   "metadata": {},
   "source": [
    "<p style=\"font-family:verdana;font-size:200%;text-align:center;\">Open API : APT Price Seoul</p>"
   ]
  },
  {
   "cell_type": "markdown",
   "metadata": {},
   "source": [
    "- 지역코드와 거래년월을 입력하면 해당 거래 데이터를 수집하는 사용자 정의 함수를 생성합니다.\n",
    "- 지역코드와 거래년월을 변경하면 원하는 데이터를 빠르게 수집할 수 있습니다."
   ]
  },
  {
   "cell_type": "markdown",
   "metadata": {},
   "source": [
    "## 작업경로 설정"
   ]
  },
  {
   "cell_type": "code",
   "execution_count": 1,
   "metadata": {},
   "outputs": [],
   "source": [
    "# 관련 라이브러리를 호출합니다.\n",
    "import os"
   ]
  },
  {
   "cell_type": "code",
   "execution_count": 2,
   "metadata": {},
   "outputs": [
    {
     "data": {
      "text/plain": [
       "'C:\\\\Users\\\\kim0m\\\\side_project\\\\PythonRPA-main\\\\code'"
      ]
     },
     "execution_count": 2,
     "metadata": {},
     "output_type": "execute_result"
    }
   ],
   "source": [
    "# 현재 작업경로를 확인합니다.\n",
    "os.getcwd()"
   ]
  },
  {
   "cell_type": "code",
   "execution_count": 3,
   "metadata": {},
   "outputs": [],
   "source": [
    "# data 폴더로 작업경로를 변경합니다.\n",
    "os.chdir(path = '../data')"
   ]
  },
  {
   "cell_type": "code",
   "execution_count": 4,
   "metadata": {},
   "outputs": [
    {
     "data": {
      "text/plain": [
       "['APT_List_Seoul_2020.xlsx',\n",
       " 'APT_Price_Seoul_2020.xlsx',\n",
       " 'Area_Code.xlsx',\n",
       " 'covid_20210415.xlsx',\n",
       " 'daum_news_20210415.xlsx',\n",
       " 'Market_Index_20210415.xlsx',\n",
       " 'Market_Index_Form.xlsx',\n",
       " 'Naver_APT_Detail.xlsx',\n",
       " 'Open_API_Key.txt',\n",
       " 'test.txt']"
      ]
     },
     "execution_count": 4,
     "metadata": {},
     "output_type": "execute_result"
    }
   ],
   "source": [
    "# 작업경로에 포함된 폴더명과 파일명을 출력합니다.\n",
    "os.listdir()"
   ]
  },
  {
   "cell_type": "markdown",
   "metadata": {},
   "source": [
    "## 아파트 거래 데이터 수집하는 사용자 정의 함수 생성"
   ]
  },
  {
   "cell_type": "code",
   "execution_count": 5,
   "metadata": {},
   "outputs": [],
   "source": [
    "# 관련 라이브러리를 호출합니다.\n",
    "import requests\n",
    "import xmltodict\n",
    "import pandas as pd\n",
    "\n",
    "# 지역코드와 거래년월을 입력하면 데이터를 수집하는 사용자 정의 함수를 생성합니다.\n",
    "def aptPrice(areaCd, ymonth, apiKey):\n",
    "    \n",
    "    # 요청 URL의 성분을 문자열로 각각 생성합니다.\n",
    "    host = 'http://openapi.molit.go.kr:8081'\n",
    "    path = '/OpenAPI_ToolInstallPackage/service/rest/RTMSOBJSvc'\n",
    "    oper = '/getRTMSDataSvcAptTrade'\n",
    "    \n",
    "    # Query String을 생성합니다.\n",
    "    query = {'LAWD_CD': areaCd, 'DEAL_YMD': ymonth, 'serviceKey': apiKey}\n",
    "    \n",
    "    # HTTP 요청을 실행합니다.\n",
    "    res = requests.get(url = host + path + oper, params = query)\n",
    "    \n",
    "    # str 자료형을 collections.OrderedDict 자료형으로 변환합니다.\n",
    "    dat = xmltodict.parse(xml_input = res.text)\n",
    "    \n",
    "    # data를 데이터프레임으로 변환합니다.\n",
    "    df = pd.DataFrame(data = dat['response']['body']['items']['item'])\n",
    "    \n",
    "    # 데이터프레임을 반환합니다.\n",
    "    return df"
   ]
  },
  {
   "cell_type": "code",
   "execution_count": 6,
   "metadata": {},
   "outputs": [],
   "source": [
    "# 공공데이터포털 API Key가 포함된 텍스트 파일을 읽습니다.\n",
    "apiKey = open(file = 'Open_API_Key.txt', mode = 'r').read()"
   ]
  },
  {
   "cell_type": "code",
   "execution_count": 7,
   "metadata": {},
   "outputs": [],
   "source": [
    "# 예제 데이터로 실습\n",
    "apt = aptPrice(areaCd = '11110', ymonth = '201512', apiKey = apiKey)"
   ]
  },
  {
   "cell_type": "code",
   "execution_count": 8,
   "metadata": {},
   "outputs": [
    {
     "data": {
      "text/html": [
       "<div>\n",
       "<style scoped>\n",
       "    .dataframe tbody tr th:only-of-type {\n",
       "        vertical-align: middle;\n",
       "    }\n",
       "\n",
       "    .dataframe tbody tr th {\n",
       "        vertical-align: top;\n",
       "    }\n",
       "\n",
       "    .dataframe thead th {\n",
       "        text-align: right;\n",
       "    }\n",
       "</style>\n",
       "<table border=\"1\" class=\"dataframe\">\n",
       "  <thead>\n",
       "    <tr style=\"text-align: right;\">\n",
       "      <th></th>\n",
       "      <th>거래금액</th>\n",
       "      <th>건축년도</th>\n",
       "      <th>년</th>\n",
       "      <th>법정동</th>\n",
       "      <th>아파트</th>\n",
       "      <th>월</th>\n",
       "      <th>일</th>\n",
       "      <th>전용면적</th>\n",
       "      <th>지번</th>\n",
       "      <th>지역코드</th>\n",
       "      <th>층</th>\n",
       "      <th>해제사유발생일</th>\n",
       "      <th>해제여부</th>\n",
       "    </tr>\n",
       "  </thead>\n",
       "  <tbody>\n",
       "    <tr>\n",
       "      <th>0</th>\n",
       "      <td>82,500</td>\n",
       "      <td>2008</td>\n",
       "      <td>2015</td>\n",
       "      <td>사직동</td>\n",
       "      <td>광화문풍림스페이스본(101동~105동)</td>\n",
       "      <td>12</td>\n",
       "      <td>10</td>\n",
       "      <td>94.51</td>\n",
       "      <td>9</td>\n",
       "      <td>11110</td>\n",
       "      <td>11</td>\n",
       "      <td>None</td>\n",
       "      <td>None</td>\n",
       "    </tr>\n",
       "    <tr>\n",
       "      <th>1</th>\n",
       "      <td>60,000</td>\n",
       "      <td>1981</td>\n",
       "      <td>2015</td>\n",
       "      <td>당주동</td>\n",
       "      <td>롯데미도파광화문빌딩</td>\n",
       "      <td>12</td>\n",
       "      <td>22</td>\n",
       "      <td>149.95</td>\n",
       "      <td>145</td>\n",
       "      <td>11110</td>\n",
       "      <td>8</td>\n",
       "      <td>None</td>\n",
       "      <td>None</td>\n",
       "    </tr>\n",
       "    <tr>\n",
       "      <th>2</th>\n",
       "      <td>130,000</td>\n",
       "      <td>2004</td>\n",
       "      <td>2015</td>\n",
       "      <td>내수동</td>\n",
       "      <td>킹스매너</td>\n",
       "      <td>12</td>\n",
       "      <td>8</td>\n",
       "      <td>194.43</td>\n",
       "      <td>110-15</td>\n",
       "      <td>11110</td>\n",
       "      <td>6</td>\n",
       "      <td>None</td>\n",
       "      <td>None</td>\n",
       "    </tr>\n",
       "    <tr>\n",
       "      <th>3</th>\n",
       "      <td>105,000</td>\n",
       "      <td>2004</td>\n",
       "      <td>2015</td>\n",
       "      <td>내수동</td>\n",
       "      <td>경희궁의아침2단지</td>\n",
       "      <td>12</td>\n",
       "      <td>14</td>\n",
       "      <td>124.17</td>\n",
       "      <td>71</td>\n",
       "      <td>11110</td>\n",
       "      <td>8</td>\n",
       "      <td>None</td>\n",
       "      <td>None</td>\n",
       "    </tr>\n",
       "    <tr>\n",
       "      <th>4</th>\n",
       "      <td>120,000</td>\n",
       "      <td>2003</td>\n",
       "      <td>2015</td>\n",
       "      <td>내수동</td>\n",
       "      <td>경희궁 파크팰리스</td>\n",
       "      <td>12</td>\n",
       "      <td>24</td>\n",
       "      <td>146.33</td>\n",
       "      <td>95</td>\n",
       "      <td>11110</td>\n",
       "      <td>4</td>\n",
       "      <td>None</td>\n",
       "      <td>None</td>\n",
       "    </tr>\n",
       "  </tbody>\n",
       "</table>\n",
       "</div>"
      ],
      "text/plain": [
       "      거래금액  건축년도     년  법정동                    아파트   월   일    전용면적      지번  \\\n",
       "0   82,500  2008  2015  사직동  광화문풍림스페이스본(101동~105동)  12  10   94.51       9   \n",
       "1   60,000  1981  2015  당주동             롯데미도파광화문빌딩  12  22  149.95     145   \n",
       "2  130,000  2004  2015  내수동                   킹스매너  12   8  194.43  110-15   \n",
       "3  105,000  2004  2015  내수동              경희궁의아침2단지  12  14  124.17      71   \n",
       "4  120,000  2003  2015  내수동              경희궁 파크팰리스  12  24  146.33      95   \n",
       "\n",
       "    지역코드   층 해제사유발생일  해제여부  \n",
       "0  11110  11    None  None  \n",
       "1  11110   8    None  None  \n",
       "2  11110   6    None  None  \n",
       "3  11110   8    None  None  \n",
       "4  11110   4    None  None  "
      ]
     },
     "execution_count": 8,
     "metadata": {},
     "output_type": "execute_result"
    }
   ],
   "source": [
    "# 처음 다섯 행만 출력합니다.\n",
    "apt.head()"
   ]
  },
  {
   "cell_type": "markdown",
   "metadata": {},
   "source": [
    "## 지역코드 준비"
   ]
  },
  {
   "cell_type": "code",
   "execution_count": 9,
   "metadata": {},
   "outputs": [],
   "source": [
    "# 서울특별시 자치구 정보가 포함된 엑셀파일을 읽습니다.\n",
    "dong = pd.read_excel(io = 'Area_Code.xlsx')"
   ]
  },
  {
   "cell_type": "code",
   "execution_count": 10,
   "metadata": {},
   "outputs": [
    {
     "data": {
      "text/html": [
       "<div>\n",
       "<style scoped>\n",
       "    .dataframe tbody tr th:only-of-type {\n",
       "        vertical-align: middle;\n",
       "    }\n",
       "\n",
       "    .dataframe tbody tr th {\n",
       "        vertical-align: top;\n",
       "    }\n",
       "\n",
       "    .dataframe thead th {\n",
       "        text-align: right;\n",
       "    }\n",
       "</style>\n",
       "<table border=\"1\" class=\"dataframe\">\n",
       "  <thead>\n",
       "    <tr style=\"text-align: right;\">\n",
       "      <th></th>\n",
       "      <th>code</th>\n",
       "      <th>sido</th>\n",
       "      <th>sigg</th>\n",
       "    </tr>\n",
       "  </thead>\n",
       "  <tbody>\n",
       "    <tr>\n",
       "      <th>0</th>\n",
       "      <td>1111000000</td>\n",
       "      <td>서울특별시</td>\n",
       "      <td>종로구</td>\n",
       "    </tr>\n",
       "    <tr>\n",
       "      <th>1</th>\n",
       "      <td>1114000000</td>\n",
       "      <td>서울특별시</td>\n",
       "      <td>중구</td>\n",
       "    </tr>\n",
       "    <tr>\n",
       "      <th>2</th>\n",
       "      <td>1117000000</td>\n",
       "      <td>서울특별시</td>\n",
       "      <td>용산구</td>\n",
       "    </tr>\n",
       "    <tr>\n",
       "      <th>3</th>\n",
       "      <td>1120000000</td>\n",
       "      <td>서울특별시</td>\n",
       "      <td>성동구</td>\n",
       "    </tr>\n",
       "    <tr>\n",
       "      <th>4</th>\n",
       "      <td>1121500000</td>\n",
       "      <td>서울특별시</td>\n",
       "      <td>광진구</td>\n",
       "    </tr>\n",
       "    <tr>\n",
       "      <th>5</th>\n",
       "      <td>1123000000</td>\n",
       "      <td>서울특별시</td>\n",
       "      <td>동대문구</td>\n",
       "    </tr>\n",
       "    <tr>\n",
       "      <th>6</th>\n",
       "      <td>1126000000</td>\n",
       "      <td>서울특별시</td>\n",
       "      <td>중랑구</td>\n",
       "    </tr>\n",
       "    <tr>\n",
       "      <th>7</th>\n",
       "      <td>1129000000</td>\n",
       "      <td>서울특별시</td>\n",
       "      <td>성북구</td>\n",
       "    </tr>\n",
       "    <tr>\n",
       "      <th>8</th>\n",
       "      <td>1130500000</td>\n",
       "      <td>서울특별시</td>\n",
       "      <td>강북구</td>\n",
       "    </tr>\n",
       "    <tr>\n",
       "      <th>9</th>\n",
       "      <td>1132000000</td>\n",
       "      <td>서울특별시</td>\n",
       "      <td>도봉구</td>\n",
       "    </tr>\n",
       "  </tbody>\n",
       "</table>\n",
       "</div>"
      ],
      "text/plain": [
       "         code   sido  sigg\n",
       "0  1111000000  서울특별시   종로구\n",
       "1  1114000000  서울특별시    중구\n",
       "2  1117000000  서울특별시   용산구\n",
       "3  1120000000  서울특별시   성동구\n",
       "4  1121500000  서울특별시   광진구\n",
       "5  1123000000  서울특별시  동대문구\n",
       "6  1126000000  서울특별시   중랑구\n",
       "7  1129000000  서울특별시   성북구\n",
       "8  1130500000  서울특별시   강북구\n",
       "9  1132000000  서울특별시   도봉구"
      ]
     },
     "execution_count": 10,
     "metadata": {},
     "output_type": "execute_result"
    }
   ],
   "source": [
    "# 처음 10행만 출력합니다.\n",
    "dong.head(n = 10)"
   ]
  },
  {
   "cell_type": "code",
   "execution_count": 11,
   "metadata": {},
   "outputs": [
    {
     "name": "stdout",
     "output_type": "stream",
     "text": [
      "<class 'pandas.core.frame.DataFrame'>\n",
      "RangeIndex: 25 entries, 0 to 24\n",
      "Data columns (total 3 columns):\n",
      " #   Column  Non-Null Count  Dtype \n",
      "---  ------  --------------  ----- \n",
      " 0   code    25 non-null     int64 \n",
      " 1   sido    25 non-null     object\n",
      " 2   sigg    25 non-null     object\n",
      "dtypes: int64(1), object(2)\n",
      "memory usage: 728.0+ bytes\n"
     ]
    }
   ],
   "source": [
    "# 데이터프레임의 정보를 확인합니다.\n",
    "dong.info()"
   ]
  },
  {
   "cell_type": "markdown",
   "metadata": {},
   "source": [
    "## 반복문 실행"
   ]
  },
  {
   "cell_type": "code",
   "execution_count": 12,
   "metadata": {},
   "outputs": [],
   "source": [
    "# 거래년월을 설정합니다.\n",
    "ymonth = '202001'"
   ]
  },
  {
   "cell_type": "code",
   "execution_count": 13,
   "metadata": {},
   "outputs": [
    {
     "name": "stdout",
     "output_type": "stream",
     "text": [
      "현재 서울특별시 종로구 데이터 수집 중!\n",
      "현재 서울특별시 중구 데이터 수집 중!\n",
      "현재 서울특별시 용산구 데이터 수집 중!\n",
      "현재 서울특별시 성동구 데이터 수집 중!\n",
      "현재 서울특별시 광진구 데이터 수집 중!\n",
      "현재 서울특별시 동대문구 데이터 수집 중!\n",
      "현재 서울특별시 중랑구 데이터 수집 중!\n",
      "현재 서울특별시 성북구 데이터 수집 중!\n",
      "현재 서울특별시 강북구 데이터 수집 중!\n",
      "현재 서울특별시 도봉구 데이터 수집 중!\n",
      "현재 서울특별시 노원구 데이터 수집 중!\n",
      "현재 서울특별시 은평구 데이터 수집 중!\n",
      "현재 서울특별시 서대문구 데이터 수집 중!\n",
      "현재 서울특별시 마포구 데이터 수집 중!\n",
      "현재 서울특별시 양천구 데이터 수집 중!\n",
      "현재 서울특별시 강서구 데이터 수집 중!\n",
      "현재 서울특별시 구로구 데이터 수집 중!\n",
      "현재 서울특별시 금천구 데이터 수집 중!\n",
      "현재 서울특별시 영등포구 데이터 수집 중!\n",
      "현재 서울특별시 동작구 데이터 수집 중!\n",
      "현재 서울특별시 관악구 데이터 수집 중!\n",
      "현재 서울특별시 서초구 데이터 수집 중!\n",
      "현재 서울특별시 강남구 데이터 수집 중!\n",
      "현재 서울특별시 송파구 데이터 수집 중!\n",
      "현재 서울특별시 강동구 데이터 수집 중!\n",
      "모든 데이터를 수집했습니다!\n"
     ]
    }
   ],
   "source": [
    "# 관련 라이브러리를 호출합니다.\n",
    "# [참고] 웹 크롤링을 실행할 때 잠시 멈춤 동작을 추가해야 합니다.\n",
    "from time import *\n",
    "\n",
    "# 최종 결과를 저장할 빈 데이터프레임을 생성합니다.\n",
    "apt = pd.DataFrame()\n",
    "\n",
    "# 반복문을 실행합니다.\n",
    "for i in range(len(dong)):\n",
    "    \n",
    "    # 지역명을 설정합니다.\n",
    "    areaNm = dong['sido'][i] + ' ' + dong['sigg'][i]\n",
    "    \n",
    "    # 현재 진행상황을 출력합니다. 이 코드를 생략하면 진행상황을 알 수 없게 됩니다.\n",
    "    print(f'현재 {areaNm} 데이터 수집 중!')\n",
    "    \n",
    "    # 지역코드를 설정합니다. 정수를 문자열로 변경한 다음, 처음 5글자만 잘라냅니다.\n",
    "    areaCd = dong['code'][i].astype(str)[0:5]\n",
    "    \n",
    "    # 거래 건수가 없으면 aptPrice() 함수는 에러를 발생하고 반복문이 중단됩니다.\n",
    "    # 따라서 try, except 문으로 에러가 발생하면 다음 자치구로 이동시킵니다.\n",
    "    try:\n",
    "        \n",
    "        # 서울특별시 자치구 단위로 거래 데이터를 수집합니다.\n",
    "        df = aptPrice(areaCd = areaCd, ymonth = ymonth, apiKey = apiKey)\n",
    "        \n",
    "        # 필요한 컬럼을 추가합니다.\n",
    "        df['시도'] = dong['sido'][i]\n",
    "        df['시군구'] = dong['sigg'][i]\n",
    "        \n",
    "        # 최종 결과 데이터프레임에 apt를 추가합니다.\n",
    "        # [참고] 인덱스가 중복되면 에러가 발생합니다.\n",
    "        apt = pd.concat(objs = [apt, df], ignore_index = True)\n",
    "    \n",
    "    except:\n",
    "        print('>> 거래 건수가 없습니다. 다음 자치구로 이동합니다!')\n",
    "        next\n",
    "    \n",
    "    # 1초 간 멈춥니다.\n",
    "    sleep(1)\n",
    "\n",
    "# 데이터 수집 완료\n",
    "print('모든 데이터를 수집했습니다!')"
   ]
  },
  {
   "cell_type": "code",
   "execution_count": 14,
   "metadata": {},
   "outputs": [
    {
     "name": "stdout",
     "output_type": "stream",
     "text": [
      "<class 'pandas.core.frame.DataFrame'>\n",
      "RangeIndex: 6506 entries, 0 to 6505\n",
      "Data columns (total 15 columns):\n",
      " #   Column   Non-Null Count  Dtype \n",
      "---  ------   --------------  ----- \n",
      " 0   거래금액     6506 non-null   object\n",
      " 1   건축년도     6506 non-null   object\n",
      " 2   년        6506 non-null   object\n",
      " 3   법정동      6506 non-null   object\n",
      " 4   아파트      6506 non-null   object\n",
      " 5   월        6506 non-null   object\n",
      " 6   일        6506 non-null   object\n",
      " 7   전용면적     6506 non-null   object\n",
      " 8   지번       6504 non-null   object\n",
      " 9   지역코드     6506 non-null   object\n",
      " 10  층        6506 non-null   object\n",
      " 11  해제사유발생일  0 non-null      object\n",
      " 12  해제여부     0 non-null      object\n",
      " 13  시도       6506 non-null   object\n",
      " 14  시군구      6506 non-null   object\n",
      "dtypes: object(15)\n",
      "memory usage: 762.5+ KB\n"
     ]
    }
   ],
   "source": [
    "# 최종 결과 데이터프레임의 정보를 확인합니다.\n",
    "apt.info()"
   ]
  },
  {
   "cell_type": "code",
   "execution_count": 16,
   "metadata": {},
   "outputs": [
    {
     "data": {
      "text/plain": [
       "시군구\n",
       "노원구     815\n",
       "성북구     449\n",
       "구로구     443\n",
       "강서구     425\n",
       "도봉구     367\n",
       "강동구     336\n",
       "은평구     313\n",
       "강북구     313\n",
       "영등포구    307\n",
       "동대문구    287\n",
       "양천구     241\n",
       "중랑구     237\n",
       "관악구     235\n",
       "서대문구    227\n",
       "송파구     221\n",
       "동작구     208\n",
       "성동구     206\n",
       "마포구     182\n",
       "강남구     131\n",
       "금천구     125\n",
       "서초구     123\n",
       "용산구     103\n",
       "중구       84\n",
       "종로구      65\n",
       "광진구      63\n",
       "Name: 거래금액, dtype: int64"
      ]
     },
     "execution_count": 16,
     "metadata": {},
     "output_type": "execute_result"
    }
   ],
   "source": [
    "apt.groupby('시군구').count()['거래금액'].sort_values(ascending =False)"
   ]
  },
  {
   "cell_type": "markdown",
   "metadata": {},
   "source": [
    "## 엑셀 파일로 저장"
   ]
  },
  {
   "cell_type": "code",
   "execution_count": 17,
   "metadata": {},
   "outputs": [
    {
     "data": {
      "text/plain": [
       "'APT_Price_Seoul_202001.xlsx'"
      ]
     },
     "execution_count": 17,
     "metadata": {},
     "output_type": "execute_result"
    }
   ],
   "source": [
    "# 저장할 엑셀 파일명을 생성합니다.\n",
    "file = f'APT_Price_Seoul_{ymonth}.xlsx'\n",
    "file"
   ]
  },
  {
   "cell_type": "code",
   "execution_count": 18,
   "metadata": {},
   "outputs": [],
   "source": [
    "# 엑셀 파일로 저장합니다.\n",
    "apt.to_excel(excel_writer = file, index = False)"
   ]
  },
  {
   "cell_type": "code",
   "execution_count": 19,
   "metadata": {},
   "outputs": [
    {
     "data": {
      "text/plain": [
       "['APT_List_Seoul_2020.xlsx',\n",
       " 'APT_Price_Seoul_2020.xlsx',\n",
       " 'APT_Price_Seoul_202001.xlsx',\n",
       " 'Area_Code.xlsx',\n",
       " 'covid_20210415.xlsx',\n",
       " 'daum_news_20210415.xlsx',\n",
       " 'Market_Index_20210415.xlsx',\n",
       " 'Market_Index_Form.xlsx',\n",
       " 'Naver_APT_Detail.xlsx',\n",
       " 'Open_API_Key.txt',\n",
       " 'test.txt']"
      ]
     },
     "execution_count": 19,
     "metadata": {},
     "output_type": "execute_result"
    }
   ],
   "source": [
    "# 작업경로에 포함된 폴더명과 파일명을 출력합니다.\n",
    "os.listdir()"
   ]
  },
  {
   "cell_type": "markdown",
   "metadata": {},
   "source": [
    "<p style=\"font-family:verdana;font-size:200%;text-align:center;\">End of Document</p>"
   ]
  }
 ],
 "metadata": {
  "kernelspec": {
   "display_name": "Python 3",
   "language": "python",
   "name": "python3"
  },
  "language_info": {
   "codemirror_mode": {
    "name": "ipython",
    "version": 3
   },
   "file_extension": ".py",
   "mimetype": "text/x-python",
   "name": "python",
   "nbconvert_exporter": "python",
   "pygments_lexer": "ipython3",
   "version": "3.7.6"
  },
  "toc": {
   "base_numbering": 1,
   "nav_menu": {},
   "number_sections": true,
   "sideBar": true,
   "skip_h1_title": false,
   "title_cell": "Table of Contents",
   "title_sidebar": "Contents",
   "toc_cell": false,
   "toc_position": {},
   "toc_section_display": true,
   "toc_window_display": true
  },
  "varInspector": {
   "cols": {
    "lenName": 16,
    "lenType": 16,
    "lenVar": 40
   },
   "kernels_config": {
    "python": {
     "delete_cmd_postfix": "",
     "delete_cmd_prefix": "del ",
     "library": "var_list.py",
     "varRefreshCmd": "print(var_dic_list())"
    },
    "r": {
     "delete_cmd_postfix": ") ",
     "delete_cmd_prefix": "rm(",
     "library": "var_list.r",
     "varRefreshCmd": "cat(var_dic_list()) "
    }
   },
   "types_to_exclude": [
    "module",
    "function",
    "builtin_function_or_method",
    "instance",
    "_Feature"
   ],
   "window_display": false
  }
 },
 "nbformat": 4,
 "nbformat_minor": 4
}
