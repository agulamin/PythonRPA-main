{
 "cells": [
  {
   "cell_type": "code",
   "execution_count": 1,
   "metadata": {},
   "outputs": [],
   "source": [
    "def getAptData(areaCd, ymonth, api_key):\n",
    "    # 관련 라이브러리를 호출합니다.\n",
    "    import requests\n",
    "\n",
    "    # 요청 URL의 성분을 문자열로 각각 생성합니다.\n",
    "    # [참고] URL이 길면 host, path 및 operation을 나눠서 생성하고, + 기호로 결합하는 방식이 좋습니다.\n",
    "    host = 'http://openapi.molit.go.kr:8081'\n",
    "    path = '/OpenAPI_ToolInstallPackage/service/rest/RTMSOBJSvc'\n",
    "    oper = '/getRTMSDataSvcAptTrade'\n",
    "\n",
    "    # Query String의 파라미터 값을 설정합니다.\n",
    "    # 오퍼레이션의 예제로 설정합니다. : 서울특별시 종로구, 2015년 12월 매매\n",
    "    areaCd = '11110'\n",
    "    ymonth = '201512'\n",
    "\n",
    "    # 공공데이터포털 API Key가 포함된 텍스트 파일을 읽습니다.\n",
    "    apiKey = open(file = 'Open_API_Key.txt', mode = 'r').read()\n",
    "\n",
    "    # Query String을 딕셔너리로 생성합니다.\n",
    "    query = {'LAWD_CD': areaCd, 'DEAL_YMD': ymonth, 'serviceKey': apiKey}\n",
    "\n",
    "    # HTTP 요청을 실행합니다.\n",
    "    res = requests.get(url = host + path + oper, params = query)\n",
    "    \n",
    "    return dat"
   ]
  },
  {
   "cell_type": "code",
   "execution_count": null,
   "metadata": {},
   "outputs": [],
   "source": [
    "\n",
    "getAptData()"
   ]
  }
 ],
 "metadata": {
  "kernelspec": {
   "display_name": "Python 3",
   "language": "python",
   "name": "python3"
  },
  "language_info": {
   "codemirror_mode": {
    "name": "ipython",
    "version": 3
   },
   "file_extension": ".py",
   "mimetype": "text/x-python",
   "name": "python",
   "nbconvert_exporter": "python",
   "pygments_lexer": "ipython3",
   "version": "3.7.6"
  },
  "toc": {
   "base_numbering": 1,
   "nav_menu": {},
   "number_sections": true,
   "sideBar": true,
   "skip_h1_title": false,
   "title_cell": "Table of Contents",
   "title_sidebar": "Contents",
   "toc_cell": false,
   "toc_position": {},
   "toc_section_display": true,
   "toc_window_display": false
  }
 },
 "nbformat": 4,
 "nbformat_minor": 4
}
