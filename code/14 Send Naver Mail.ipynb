{
 "cells": [
  {
   "cell_type": "markdown",
   "metadata": {},
   "source": [
    "<p style=\"font-family:verdana;font-size:200%;text-align:center;\">Send Naver Mail</p>"
   ]
  },
  {
   "cell_type": "markdown",
   "metadata": {},
   "source": [
    "* Naver ID와 Password를 이용하여 이메일을 발송합니다.\n",
    "* 미리 SMTP 서버 사용 설정을 실행해야 합니다. (강의안을 참고하세요.)"
   ]
  },
  {
   "cell_type": "markdown",
   "metadata": {},
   "source": [
    "## 텍스트 본문 발송"
   ]
  },
  {
   "cell_type": "code",
   "execution_count": 35,
   "metadata": {},
   "outputs": [],
   "source": [
    "# 관련 라이브러리를 호출합니다.\n",
    "from smtplib import SMTP, SMTP_SSL\n",
    "from email.mime.multipart import MIMEMultipart\n",
    "from email.mime.text import MIMEText"
   ]
  },
  {
   "cell_type": "code",
   "execution_count": 36,
   "metadata": {},
   "outputs": [],
   "source": [
    "# 보내는 사람 정보를 설정합니다. ('@naver.com'을 반드시 추가하세요!)\n",
    "User = 'archnoma@naver.com'\n",
    "Pass = ''"
   ]
  },
  {
   "cell_type": "code",
   "execution_count": 37,
   "metadata": {},
   "outputs": [],
   "source": [
    "# 받는 사람 이메일 주소를 설정합니다.\n",
    "# [참고] 받는 사람이 여러 명일 때, 콤마를 구분자로 사용합니다.\n",
    "To = 'agulamin@gmail.com,kim0min@outlook.com'"
   ]
  },
  {
   "cell_type": "code",
   "execution_count": 38,
   "metadata": {},
   "outputs": [],
   "source": [
    "# 이메일 제목 및 본문을 설정합니다.\n",
    "# [참고] 따옴표를 세 번 겹쳐서 사용하면 문자열을 여러 줄을 입력할 수 있습니다.\n",
    "Head = '안녕하세요? 이메일 발송 테스트입니다!'\n",
    "Text = '''이메일 본문을 여기에 작성합니다.<br>\n",
    "       따옴표를 세 개로 묶으면 여러 줄 입력이 가능합니다.'''"
   ]
  },
  {
   "cell_type": "code",
   "execution_count": 39,
   "metadata": {},
   "outputs": [],
   "source": [
    "# 발송 메시지를 설정합니다.\n",
    "msg = MIMEMultipart(_subtype = 'mixed')\n",
    "msg['From'] = User\n",
    "msg['To'] = To\n",
    "msg['Subject'] = Head"
   ]
  },
  {
   "cell_type": "code",
   "execution_count": 40,
   "metadata": {},
   "outputs": [],
   "source": [
    "# 본문을 설정합니다.\n",
    "body = MIMEText(\n",
    "    _text = Text, \n",
    "    _subtype = 'html', \n",
    "    _charset = 'UTF-8'\n",
    ")"
   ]
  },
  {
   "cell_type": "code",
   "execution_count": 41,
   "metadata": {},
   "outputs": [],
   "source": [
    "# 발송 메시지에 본문을 추가합니다.\n",
    "msg.attach(payload = body)"
   ]
  },
  {
   "cell_type": "code",
   "execution_count": 42,
   "metadata": {},
   "outputs": [],
   "source": [
    "# SMTP 정보를 설정합니다. (TLS 사용)\n",
    "# [참고] 만약 SSL을 사용한다면, Port = 465로 설정합니다.\n",
    "Host = 'smtp.naver.com'\n",
    "Port = 587"
   ]
  },
  {
   "cell_type": "code",
   "execution_count": 43,
   "metadata": {},
   "outputs": [
    {
     "data": {
      "text/plain": [
       "(220, b'2.0.0 Ready to start TLS i4r40EqeSPKUrLDlX+I5WQ - nsmtp')"
      ]
     },
     "execution_count": 43,
     "metadata": {},
     "output_type": "execute_result"
    }
   ],
   "source": [
    "# SMTP 서버를 설정합니다. (TLS 사용)\n",
    "# [참고] 만약 SSL을 사용한다면, SMTP_SSL() 함수를 대신 사용합니다.\n",
    "server = SMTP(host = Host, port = Port)\n",
    "server.starttls()"
   ]
  },
  {
   "cell_type": "code",
   "execution_count": 44,
   "metadata": {},
   "outputs": [
    {
     "data": {
      "text/plain": [
       "(235, b'2.7.0 Accepted i4r40EqeSPKUrLDlX+I5WQ - nsmtp')"
      ]
     },
     "execution_count": 44,
     "metadata": {},
     "output_type": "execute_result"
    }
   ],
   "source": [
    "# SMTP 서버에 로그인합니다.\n",
    "server.login(user = User, password = Pass)"
   ]
  },
  {
   "cell_type": "code",
   "execution_count": 45,
   "metadata": {},
   "outputs": [
    {
     "data": {
      "text/plain": [
       "{}"
      ]
     },
     "execution_count": 45,
     "metadata": {},
     "output_type": "execute_result"
    }
   ],
   "source": [
    "# 이메일을 발송합니다.\n",
    "server.sendmail(\n",
    "    from_addr = User, \n",
    "    to_addrs = To.split(','), \n",
    "    msg = msg.as_string()\n",
    ")"
   ]
  },
  {
   "cell_type": "markdown",
   "metadata": {},
   "source": [
    "## 첨부 파일 추가 발송"
   ]
  },
  {
   "cell_type": "code",
   "execution_count": 46,
   "metadata": {},
   "outputs": [],
   "source": [
    "# 관련 라이브러리를 호출합니다.\n",
    "import os\n",
    "from email.mime.base import MIMEBase\n",
    "from email import encoders"
   ]
  },
  {
   "cell_type": "code",
   "execution_count": 47,
   "metadata": {},
   "outputs": [
    {
     "data": {
      "text/plain": [
       "'C:\\\\Users\\\\kim0m\\\\side_project\\\\PythonRPA-main\\\\code'"
      ]
     },
     "execution_count": 47,
     "metadata": {},
     "output_type": "execute_result"
    }
   ],
   "source": [
    "# 현재 작업경로를 확인합니다.\n",
    "os.getcwd()"
   ]
  },
  {
   "cell_type": "code",
   "execution_count": 48,
   "metadata": {},
   "outputs": [],
   "source": [
    "# data 폴더로 작업경로를 변경합니다.\n",
    "os.chdir(path = '../data')"
   ]
  },
  {
   "cell_type": "code",
   "execution_count": 49,
   "metadata": {},
   "outputs": [
    {
     "data": {
      "text/plain": [
       "['APT_List_Seoul_2020.xlsx',\n",
       " 'APT_Price_Seoul_2020.xlsx',\n",
       " 'APT_Price_Seoul_202001.xlsx',\n",
       " 'Area_Code.xlsx',\n",
       " 'covid_20210415.xlsx',\n",
       " 'daum_news_20210415.xlsx',\n",
       " 'Market_Index_20210415.xlsx',\n",
       " 'Market_Index_Form.xlsx',\n",
       " 'Naver_APT_Detail.xlsx',\n",
       " 'Open_API_Key.txt',\n",
       " 'test.txt']"
      ]
     },
     "execution_count": 49,
     "metadata": {},
     "output_type": "execute_result"
    }
   ],
   "source": [
    "# 작업경로에 포함된 폴더명과 파일명을 출력합니다.\n",
    "os.listdir()"
   ]
  },
  {
   "cell_type": "code",
   "execution_count": 50,
   "metadata": {},
   "outputs": [],
   "source": [
    "# 첨부 파일명을 설정합니다.\n",
    "File = 'Market_Index_Form.xlsx'"
   ]
  },
  {
   "cell_type": "code",
   "execution_count": 51,
   "metadata": {},
   "outputs": [],
   "source": [
    "# 첨부 파일을 추가합니다.\n",
    "add = MIMEBase(_maintype = 'application', _subtype = 'octet-stream')\n",
    "add.set_payload(payload = open(file = File, mode = 'rb').read())\n",
    "encoders.encode_base64(msg = add)\n",
    "add.add_header(\n",
    "    _name = 'content-disposition', \n",
    "    _value = 'attachment', \n",
    "    filename = os.path.basename(p = File)\n",
    ")"
   ]
  },
  {
   "cell_type": "code",
   "execution_count": 52,
   "metadata": {},
   "outputs": [],
   "source": [
    "# 발송 메시지에 본문을 추가합니다.\n",
    "msg.attach(payload = add)"
   ]
  },
  {
   "cell_type": "code",
   "execution_count": 53,
   "metadata": {},
   "outputs": [
    {
     "data": {
      "text/plain": [
       "{}"
      ]
     },
     "execution_count": 53,
     "metadata": {},
     "output_type": "execute_result"
    }
   ],
   "source": [
    "# 이메일을 발송합니다.\n",
    "server.sendmail(\n",
    "    from_addr = User, \n",
    "    to_addrs = To.split(','), \n",
    "    msg = msg.as_string()\n",
    ")"
   ]
  },
  {
   "cell_type": "code",
   "execution_count": 54,
   "metadata": {},
   "outputs": [],
   "source": [
    "# SMTP 서버 연결을 끊습니다.\n",
    "server.close()"
   ]
  },
  {
   "cell_type": "markdown",
   "metadata": {},
   "source": [
    "<p style=\"font-family:verdana;font-size:200%;text-align:center;\">End of Document</p>"
   ]
  }
 ],
 "metadata": {
  "kernelspec": {
   "display_name": "Python 3",
   "language": "python",
   "name": "python3"
  },
  "language_info": {
   "codemirror_mode": {
    "name": "ipython",
    "version": 3
   },
   "file_extension": ".py",
   "mimetype": "text/x-python",
   "name": "python",
   "nbconvert_exporter": "python",
   "pygments_lexer": "ipython3",
   "version": "3.7.6"
  },
  "toc": {
   "base_numbering": 1,
   "nav_menu": {},
   "number_sections": true,
   "sideBar": true,
   "skip_h1_title": false,
   "title_cell": "Table of Contents",
   "title_sidebar": "Contents",
   "toc_cell": false,
   "toc_position": {},
   "toc_section_display": true,
   "toc_window_display": true
  },
  "varInspector": {
   "cols": {
    "lenName": 16,
    "lenType": 16,
    "lenVar": 40
   },
   "kernels_config": {
    "python": {
     "delete_cmd_postfix": "",
     "delete_cmd_prefix": "del ",
     "library": "var_list.py",
     "varRefreshCmd": "print(var_dic_list())"
    },
    "r": {
     "delete_cmd_postfix": ") ",
     "delete_cmd_prefix": "rm(",
     "library": "var_list.r",
     "varRefreshCmd": "cat(var_dic_list()) "
    }
   },
   "types_to_exclude": [
    "module",
    "function",
    "builtin_function_or_method",
    "instance",
    "_Feature"
   ],
   "window_display": false
  }
 },
 "nbformat": 4,
 "nbformat_minor": 4
}
