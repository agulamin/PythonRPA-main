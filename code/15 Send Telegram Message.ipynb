{
 "cells": [
  {
   "cell_type": "markdown",
   "metadata": {},
   "source": [
    "<p style=\"font-family:verdana;font-size:200%;text-align:center;\">Send Telegram Message</p>"
   ]
  },
  {
   "cell_type": "markdown",
   "metadata": {},
   "source": [
    "- 텔레그램 봇을 생성하는 방법은 강의안을 참고하세요.\n",
    "- 메시지를 발송할 사용자를 텔레그램 봇으로 미리 초대해야 합니다."
   ]
  },
  {
   "cell_type": "markdown",
   "metadata": {},
   "source": [
    "## 작업경로 설정"
   ]
  },
  {
   "cell_type": "code",
   "execution_count": 1,
   "metadata": {},
   "outputs": [],
   "source": [
    "# 관련 라이브러리를 호출합니다.\n",
    "import os"
   ]
  },
  {
   "cell_type": "code",
   "execution_count": 2,
   "metadata": {},
   "outputs": [
    {
     "data": {
      "text/plain": [
       "'C:\\\\Users\\\\kim0m\\\\side_project\\\\PythonRPA-main\\\\code'"
      ]
     },
     "execution_count": 2,
     "metadata": {},
     "output_type": "execute_result"
    }
   ],
   "source": [
    "# 현재 작업경로를 확인합니다.\n",
    "os.getcwd()"
   ]
  },
  {
   "cell_type": "code",
   "execution_count": 3,
   "metadata": {},
   "outputs": [],
   "source": [
    "# data 폴더로 작업경로를 변경합니다.\n",
    "os.chdir(path = '../data')"
   ]
  },
  {
   "cell_type": "code",
   "execution_count": 8,
   "metadata": {},
   "outputs": [
    {
     "data": {
      "text/plain": [
       "['APT_List_Seoul_2020.xlsx',\n",
       " 'APT_Price_Seoul_2020.xlsx',\n",
       " 'APT_Price_Seoul_202001.xlsx',\n",
       " 'Area_Code.xlsx',\n",
       " 'covid_20210415.xlsx',\n",
       " 'daum_news_20210415.xlsx',\n",
       " 'Market_Index_20210415.xlsx',\n",
       " 'Market_Index_Form.xlsx',\n",
       " 'Naver_APT_Detail.xlsx',\n",
       " 'Open_API_Key.txt',\n",
       " 'Telegram_Token.txt',\n",
       " 'test.txt']"
      ]
     },
     "execution_count": 8,
     "metadata": {},
     "output_type": "execute_result"
    }
   ],
   "source": [
    "# 작업경로에 포함된 폴더명과 파일명을 출력합니다.\n",
    "os.listdir()"
   ]
  },
  {
   "cell_type": "markdown",
   "metadata": {},
   "source": [
    "## 텔레그램 토큰 텍스트 파일로 저장"
   ]
  },
  {
   "cell_type": "code",
   "execution_count": 5,
   "metadata": {},
   "outputs": [],
   "source": [
    "# 텔레그램 토큰을 저장할 텍스트 파일을 생성합니다. #s or w\n",
    "file = open(file = 'Telegram_Token.txt', mode = 'a')"
   ]
  },
  {
   "cell_type": "code",
   "execution_count": 6,
   "metadata": {},
   "outputs": [
    {
     "data": {
      "text/plain": [
       "46"
      ]
     },
     "execution_count": 6,
     "metadata": {},
     "output_type": "execute_result"
    }
   ],
   "source": [
    "# 텔레그램 토큰을 입력합니다.\n",
    "# \n",
    "file.write('')"
   ]
  },
  {
   "cell_type": "code",
   "execution_count": 7,
   "metadata": {},
   "outputs": [],
   "source": [
    "# file을 닫으면 입력이 완료됩니다.\n",
    "file.close()"
   ]
  },
  {
   "cell_type": "markdown",
   "metadata": {},
   "source": [
    "## 텔레그램 봇 설정"
   ]
  },
  {
   "cell_type": "code",
   "execution_count": 9,
   "metadata": {},
   "outputs": [
    {
     "name": "stdout",
     "output_type": "stream",
     "text": [
      "Collecting python-telegram-bot\n",
      "  Downloading python_telegram_bot-13.4.1-py3-none-any.whl (448 kB)\n",
      "Requirement already satisfied: pytz>=2018.6 in c:\\anaconda3\\lib\\site-packages (from python-telegram-bot) (2019.3)\n",
      "Requirement already satisfied: tornado>=5.1 in c:\\anaconda3\\lib\\site-packages (from python-telegram-bot) (6.0.3)\n",
      "Requirement already satisfied: certifi in c:\\anaconda3\\lib\\site-packages (from python-telegram-bot) (2019.11.28)\n",
      "Collecting APScheduler==3.6.3\n",
      "  Using cached APScheduler-3.6.3-py2.py3-none-any.whl (58 kB)\n",
      "Requirement already satisfied: six>=1.4.0 in c:\\anaconda3\\lib\\site-packages (from APScheduler==3.6.3->python-telegram-bot) (1.14.0)\n",
      "Requirement already satisfied: setuptools>=0.7 in c:\\anaconda3\\lib\\site-packages (from APScheduler==3.6.3->python-telegram-bot) (50.3.2)\n",
      "Collecting tzlocal>=1.2\n",
      "  Downloading tzlocal-2.1-py2.py3-none-any.whl (16 kB)\n",
      "Installing collected packages: tzlocal, APScheduler, python-telegram-bot\n",
      "Successfully installed APScheduler-3.6.3 python-telegram-bot-13.4.1 tzlocal-2.1\n"
     ]
    },
    {
     "name": "stderr",
     "output_type": "stream",
     "text": [
      "WARNING: You are using pip version 20.2.4; however, version 21.0.1 is available.\n",
      "You should consider upgrading via the 'c:\\anaconda3\\python.exe -m pip install --upgrade pip' command.\n"
     ]
    }
   ],
   "source": [
    "# 관련 라이브러리를 설치합니다.\n",
    "# \n",
    "!pip install python-telegram-bot"
   ]
  },
  {
   "cell_type": "code",
   "execution_count": 14,
   "metadata": {},
   "outputs": [],
   "source": [
    "# 관련 라이브러리를 호출합니다.\n",
    "import telegram"
   ]
  },
  {
   "cell_type": "code",
   "execution_count": 15,
   "metadata": {},
   "outputs": [],
   "source": [
    "# 텔레그램 토큰이 포함된 텍스트 파일을 읽습니다.\n",
    "token = open(file = 'Telegram_Token.txt', mode = 'r').read()"
   ]
  },
  {
   "cell_type": "code",
   "execution_count": 16,
   "metadata": {},
   "outputs": [],
   "source": [
    "# 텔레그램 봇을 설정합니다.\n",
    "bot = telegram.Bot(token = token)"
   ]
  },
  {
   "cell_type": "code",
   "execution_count": 17,
   "metadata": {},
   "outputs": [
    {
     "name": "stdout",
     "output_type": "stream",
     "text": [
      "{'id': 1759165950, 'first_name': 'kim0min', 'is_bot': True, 'username': 'kim0min_bot', 'can_join_groups': True, 'can_read_all_group_messages': False, 'supports_inline_queries': False}\n"
     ]
    }
   ],
   "source": [
    "# 텔레그램 봇 정보를 확인합니다.\n",
    "print(bot.getMe())"
   ]
  },
  {
   "cell_type": "markdown",
   "metadata": {},
   "source": [
    "## 메시지 정보 추출"
   ]
  },
  {
   "cell_type": "code",
   "execution_count": 19,
   "metadata": {},
   "outputs": [],
   "source": [
    "# 최근 24시간 동안 텔레그램 봇에 등록된 메시지 정보를 추출합니다.\n",
    "updates = bot.getUpdates()"
   ]
  },
  {
   "cell_type": "code",
   "execution_count": 20,
   "metadata": {},
   "outputs": [
    {
     "data": {
      "text/plain": [
       "[<telegram.update.Update at 0x27ad66da5c8>,\n",
       " <telegram.update.Update at 0x27ad8590b08>]"
      ]
     },
     "execution_count": 20,
     "metadata": {},
     "output_type": "execute_result"
    }
   ],
   "source": [
    "# 텔레그램 봇 업데이트 내용을 한 줄씩 출력합니다.\n",
    "[update for update in updates]"
   ]
  },
  {
   "cell_type": "code",
   "execution_count": 21,
   "metadata": {},
   "outputs": [
    {
     "data": {
      "text/plain": [
       "['/start', '안녕하세요?']"
      ]
     },
     "execution_count": 21,
     "metadata": {},
     "output_type": "execute_result"
    }
   ],
   "source": [
    "# 메시지 본문만 출력합니다.\n",
    "[update.message.text for update in updates]"
   ]
  },
  {
   "cell_type": "code",
   "execution_count": 22,
   "metadata": {},
   "outputs": [
    {
     "data": {
      "text/plain": [
       "[1633365770, 1633365770]"
      ]
     },
     "execution_count": 22,
     "metadata": {},
     "output_type": "execute_result"
    }
   ],
   "source": [
    "# 사용자 ID만 출력합니다.\n",
    "[update.message.chat.id for update in updates]"
   ]
  },
  {
   "cell_type": "markdown",
   "metadata": {},
   "source": [
    "## 메시지 발송"
   ]
  },
  {
   "cell_type": "code",
   "execution_count": 27,
   "metadata": {},
   "outputs": [
    {
     "data": {
      "text/plain": [
       "1633365770"
      ]
     },
     "execution_count": 27,
     "metadata": {},
     "output_type": "execute_result"
    }
   ],
   "source": [
    "# 마지막으로 메시지 등록한 ChatID를 설정합니다.\n",
    "chatID = updates[-1].message.chat.id\n",
    "chatID"
   ]
  },
  {
   "cell_type": "code",
   "execution_count": 28,
   "metadata": {},
   "outputs": [],
   "source": [
    "chatID = '1633365770'"
   ]
  },
  {
   "cell_type": "code",
   "execution_count": 29,
   "metadata": {},
   "outputs": [
    {
     "data": {
      "text/plain": [
       "<telegram.message.Message at 0x27ad85b6808>"
      ]
     },
     "execution_count": 29,
     "metadata": {},
     "output_type": "execute_result"
    }
   ],
   "source": [
    "# 전송할 메시지를 생성합니다.\n",
    "text = '감사합니다. 좋은 하루 되세요!111'\n",
    "\n",
    "# ChatID에게 테스트 메시지를 발송합니다.\n",
    "bot.sendMessage(chat_id = chatID, text = text)"
   ]
  },
  {
   "cell_type": "code",
   "execution_count": 25,
   "metadata": {},
   "outputs": [
    {
     "data": {
      "text/plain": [
       "<telegram.message.Message at 0x27ad8583588>"
      ]
     },
     "execution_count": 25,
     "metadata": {},
     "output_type": "execute_result"
    }
   ],
   "source": [
    "# 전송할 파일을 생성합니다.\n",
    "file = open(file = 'Market_Index_Form.xlsx', mode = 'rb')\n",
    "\n",
    "# ChatID에게 문서 파일을 발송합니다.\n",
    "bot.sendDocument(chat_id = chatID, document = file)"
   ]
  },
  {
   "cell_type": "code",
   "execution_count": 26,
   "metadata": {},
   "outputs": [
    {
     "data": {
      "text/plain": [
       "<telegram.message.Message at 0x27ad8583848>"
      ]
     },
     "execution_count": 26,
     "metadata": {},
     "output_type": "execute_result"
    }
   ],
   "source": [
    "# 전송할 URL을 생성합니다.\n",
    "file_url = 'https://www.python.org/static/img/python-logo.png'\n",
    "\n",
    "# ChatID에게 이미지 파일을 발송합니다.\n",
    "bot.sendPhoto(chat_id = chatID, photo = file_url)"
   ]
  },
  {
   "cell_type": "markdown",
   "metadata": {},
   "source": [
    "<p style=\"font-family:verdana;font-size:200%;text-align:center;\">End of Document</p>"
   ]
  }
 ],
 "metadata": {
  "kernelspec": {
   "display_name": "Python 3",
   "language": "python",
   "name": "python3"
  },
  "language_info": {
   "codemirror_mode": {
    "name": "ipython",
    "version": 3
   },
   "file_extension": ".py",
   "mimetype": "text/x-python",
   "name": "python",
   "nbconvert_exporter": "python",
   "pygments_lexer": "ipython3",
   "version": "3.7.6"
  },
  "toc": {
   "base_numbering": 1,
   "nav_menu": {},
   "number_sections": true,
   "sideBar": true,
   "skip_h1_title": false,
   "title_cell": "Table of Contents",
   "title_sidebar": "Contents",
   "toc_cell": false,
   "toc_position": {},
   "toc_section_display": true,
   "toc_window_display": true
  },
  "varInspector": {
   "cols": {
    "lenName": 16,
    "lenType": 16,
    "lenVar": 40
   },
   "kernels_config": {
    "python": {
     "delete_cmd_postfix": "",
     "delete_cmd_prefix": "del ",
     "library": "var_list.py",
     "varRefreshCmd": "print(var_dic_list())"
    },
    "r": {
     "delete_cmd_postfix": ") ",
     "delete_cmd_prefix": "rm(",
     "library": "var_list.r",
     "varRefreshCmd": "cat(var_dic_list()) "
    }
   },
   "types_to_exclude": [
    "module",
    "function",
    "builtin_function_or_method",
    "instance",
    "_Feature"
   ],
   "window_display": false
  }
 },
 "nbformat": 4,
 "nbformat_minor": 2
}
