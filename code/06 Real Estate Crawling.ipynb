{
 "cells": [
  {
   "cell_type": "markdown",
   "metadata": {},
   "source": [
    "<p style=\"font-family:verdana;font-size:200%;text-align:center;\">Real Estate Crawling</p>"
   ]
  },
  {
   "cell_type": "markdown",
   "metadata": {},
   "source": [
    "- 우리나라 대형 포탈 부동산 사이트에 등록된 매물 데이터를 수집합니다.\n",
    "- HTTP 요청을 할 때, 요청 헤더를 추가하는 방법을 소개합니다."
   ]
  },
  {
   "cell_type": "markdown",
   "metadata": {},
   "source": [
    "## HTTP 요청 URL 찾는 법\n",
    "\n",
    "- 네이버 부동산에 접속합니다. https://land.naver.com/\n",
    "- 검색창에서 아파트단지명을 입력합니다. '아이파크삼성'\n",
    "- 검색결과에서 찾는 아파트단지를 선택합니다.\n",
    "- 매물 리스트가 보이면 크롬 개발자도구를 엽니다.\n",
    "- 크롬 개발자도구가 열린 상태에서 새로고침합니다.\n",
    "- Network > XHR 탭에서 매물 리스트가 포함된 객체를 찾습니다.\n",
    " - **12826?realEstateType**으로 시작하는 객체입니다.\n",
    " - Preview에 **articleList**에 매물 리스트 포함되어 있습니다.\n",
    " - Headers에 요청 URL과 Query String 등이 포함되어 있습니다."
   ]
  },
  {
   "cell_type": "markdown",
   "metadata": {},
   "source": [
    "## HTTP 요청 실행"
   ]
  },
  {
   "cell_type": "code",
   "execution_count": null,
   "metadata": {},
   "outputs": [],
   "source": [
    "# 관련 라이브러리를 호출합니다.\n",
    "import requests"
   ]
  },
  {
   "cell_type": "code",
   "execution_count": null,
   "metadata": {},
   "outputs": [],
   "source": [
    "# 요청 URL을 설정합니다.\n",
    "url = 'https://new.land.naver.com/api/articles/complex/12826'"
   ]
  },
  {
   "cell_type": "code",
   "execution_count": null,
   "metadata": {},
   "outputs": [],
   "source": [
    "# Query String을 딕셔너리로 생성합니다.\n",
    "# [참고] 모든 파라미터를 포함할 필요 없지만, 필수 파라미터는 포함되어야 합니다.\n",
    "# 따라서 처음에는 모든 파라미터를 포함했다가 하나씩 빼는 방식으로 제외합니다.\n",
    "query = {\n",
    "    'realEstateType': 'APT',\n",
    "    'tradeType': '',\n",
    "    'tag': '::::::::',\n",
    "    'rentPriceMin': '0',\n",
    "    'rentPriceMax': '900000000',\n",
    "    'priceMin': '0',\n",
    "    'priceMax': '900000000',\n",
    "    'areaMin': '0',\n",
    "    'areaMax': '900000000',\n",
    "    'oldBuildYears': '',\n",
    "    'recentlyBuildYears': '',\n",
    "    'minHouseHoldCount': '',\n",
    "    'maxHouseHoldCount': '',\n",
    "    'showArticle': 'false',\n",
    "    'sameAddressGroup': 'false',\n",
    "    'minMaintenanceCost': '',\n",
    "    'maxMaintenanceCost': '',\n",
    "    'priceType': 'RETAIL',\n",
    "    'directions': '',\n",
    "    'page': '1',\n",
    "    'complexNo': '12826',\n",
    "    'buildingNos': '',\n",
    "    'areaNos': '',\n",
    "    'type': 'list',\n",
    "    'order': 'rank'\n",
    "}"
   ]
  },
  {
   "cell_type": "code",
   "execution_count": null,
   "metadata": {},
   "outputs": [],
   "source": [
    "# 요청 헤더에 authorization 및 user-agent를 설정합니다.\n",
    "# [참고] 요청 헤더는 Network Headers에서 확인할 수 있습니다.\n",
    "auth = ''\n",
    "myua = ''\n",
    "headers = {'authorization': auth, 'User-agent': myua}"
   ]
  },
  {
   "cell_type": "code",
   "execution_count": null,
   "metadata": {},
   "outputs": [],
   "source": [
    "# HTTP 요청을 실행합니다.\n",
    "res = requests.get(url = url, params = query, headers = headers)"
   ]
  },
  {
   "cell_type": "markdown",
   "metadata": {},
   "source": [
    "## HTTP 응답 확인"
   ]
  },
  {
   "cell_type": "code",
   "execution_count": null,
   "metadata": {},
   "outputs": [],
   "source": [
    "# HTTP 응답 상태코드를 확인합니다.\n",
    "res.status_code"
   ]
  },
  {
   "cell_type": "code",
   "execution_count": null,
   "metadata": {},
   "outputs": [],
   "source": [
    "# HTTP 응답 헤더를 확인합니다.\n",
    "# [참고] Content-Type이 json입니다.\n",
    "res.headers"
   ]
  },
  {
   "cell_type": "code",
   "execution_count": null,
   "metadata": {},
   "outputs": [],
   "source": [
    "# HTTP 요청 URL만 확인합니다.\n",
    "res.url"
   ]
  },
  {
   "cell_type": "code",
   "execution_count": null,
   "metadata": {},
   "outputs": [],
   "source": [
    "# HTTP 응답 Body를 문자열(str)로 출력합니다.\n",
    "res.text"
   ]
  },
  {
   "cell_type": "markdown",
   "metadata": {},
   "source": [
    "## 필요한 데이터 수집"
   ]
  },
  {
   "cell_type": "code",
   "execution_count": null,
   "metadata": {},
   "outputs": [],
   "source": [
    "# 관련 라이브러리를 호출합니다.\n",
    "import json"
   ]
  },
  {
   "cell_type": "code",
   "execution_count": null,
   "metadata": {},
   "outputs": [],
   "source": [
    "# 문자열을 JSON 자료형으로 변환\n",
    "data = json.loads(s = res.text)"
   ]
  },
  {
   "cell_type": "code",
   "execution_count": null,
   "metadata": {},
   "outputs": [],
   "source": [
    "# data를 출력합니다.\n",
    "# [참고] 'articleList'의 value는 리스트입니다.\n",
    "# 리스트의 원소는 딕셔너리이고, 매물 리스트 한 건에 해당합니다.\n",
    "data"
   ]
  },
  {
   "cell_type": "markdown",
   "metadata": {},
   "source": [
    "## 데이터프레임으로 저장"
   ]
  },
  {
   "cell_type": "code",
   "execution_count": null,
   "metadata": {},
   "outputs": [],
   "source": [
    "# 관련 라이브러리를 호출합니다.\n",
    "import pandas as pd"
   ]
  },
  {
   "cell_type": "code",
   "execution_count": null,
   "metadata": {},
   "outputs": [],
   "source": [
    "# 반복되는 부분(딕셔너리 자료형)만 데이터프레임으로 변환합니다.\n",
    "df = pd.DataFrame(data = data['articleList'])"
   ]
  },
  {
   "cell_type": "code",
   "execution_count": null,
   "metadata": {},
   "outputs": [],
   "source": [
    "# 처음 다섯 행만 출력합니다.\n",
    "df.head()"
   ]
  },
  {
   "cell_type": "code",
   "execution_count": null,
   "metadata": {
    "scrolled": false
   },
   "outputs": [],
   "source": [
    "# 데이터프레임의 정보를 확인합니다.\n",
    "df.info()"
   ]
  },
  {
   "cell_type": "code",
   "execution_count": null,
   "metadata": {},
   "outputs": [],
   "source": [
    "# 필요한 컬럼만 남겨서 출력합니다.\n",
    "df.loc[:, ['buildingName', 'dealOrWarrantPrc', 'direction', 'floorInfo', 'tradeTypeName', 'rentPrc']]"
   ]
  },
  {
   "cell_type": "markdown",
   "metadata": {},
   "source": [
    "<p style=\"font-family:verdana;font-size:200%;text-align:center;\">End of Document</p>"
   ]
  }
 ],
 "metadata": {
  "kernelspec": {
   "display_name": "Python 3",
   "language": "python",
   "name": "python3"
  },
  "language_info": {
   "codemirror_mode": {
    "name": "ipython",
    "version": 3
   },
   "file_extension": ".py",
   "mimetype": "text/x-python",
   "name": "python",
   "nbconvert_exporter": "python",
   "pygments_lexer": "ipython3",
   "version": "3.7.6"
  },
  "toc": {
   "base_numbering": 1,
   "nav_menu": {},
   "number_sections": true,
   "sideBar": true,
   "skip_h1_title": false,
   "title_cell": "Table of Contents",
   "title_sidebar": "Contents",
   "toc_cell": false,
   "toc_position": {},
   "toc_section_display": true,
   "toc_window_display": true
  },
  "varInspector": {
   "cols": {
    "lenName": 16,
    "lenType": 16,
    "lenVar": 40
   },
   "kernels_config": {
    "python": {
     "delete_cmd_postfix": "",
     "delete_cmd_prefix": "del ",
     "library": "var_list.py",
     "varRefreshCmd": "print(var_dic_list())"
    },
    "r": {
     "delete_cmd_postfix": ") ",
     "delete_cmd_prefix": "rm(",
     "library": "var_list.r",
     "varRefreshCmd": "cat(var_dic_list()) "
    }
   },
   "types_to_exclude": [
    "module",
    "function",
    "builtin_function_or_method",
    "instance",
    "_Feature"
   ],
   "window_display": false
  }
 },
 "nbformat": 4,
 "nbformat_minor": 4
}
