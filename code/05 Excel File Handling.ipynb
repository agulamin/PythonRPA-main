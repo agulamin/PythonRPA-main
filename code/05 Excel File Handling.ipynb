{
 "cells": [
  {
   "cell_type": "markdown",
   "metadata": {},
   "source": [
    "<p style=\"font-family:verdana;font-size:200%;text-align:center;\">Excel File Handling</p>"
   ]
  },
  {
   "cell_type": "markdown",
   "metadata": {},
   "source": [
    "- 문서의 양식을 만들어 놓은 엑셀파일을 호출하여 특정 위치에 값을 입력합니다.\n",
    "- 튜토리얼 : https://openpyxl.readthedocs.io/en/stable/tutorial.html"
   ]
  },
  {
   "cell_type": "markdown",
   "metadata": {},
   "source": [
    "## 엑셀 파일 열고 시트 지정"
   ]
  },
  {
   "cell_type": "code",
   "execution_count": 2,
   "metadata": {},
   "outputs": [],
   "source": [
    "# 관련 라이브러리를 호출합니다.\n",
    "from openpyxl import load_workbook"
   ]
  },
  {
   "cell_type": "code",
   "execution_count": 9,
   "metadata": {},
   "outputs": [],
   "source": [
    "# 불러올 엑셀 파일명이 저장된 폴더명과 파일명을 각각 설정합니다.\n",
    "# [참고] 파일명 앞에 폴더명을 추가해야 합니다.\n",
    "path = 'C:\\\\Users\\\\kim0m\\\\side_project\\\\PythonRPA-main\\\\data\\\\'\n",
    "file = 'Market_Index_Form.xlsx'"
   ]
  },
  {
   "cell_type": "code",
   "execution_count": 10,
   "metadata": {},
   "outputs": [
    {
     "data": {
      "text/plain": [
       "'C:\\\\Users\\\\kim0m\\\\side_project\\\\PythonRPA-main\\\\data\\\\Market_Index_Form.xlsx'"
      ]
     },
     "execution_count": 10,
     "metadata": {},
     "output_type": "execute_result"
    }
   ],
   "source": [
    "path + file\n"
   ]
  },
  {
   "cell_type": "code",
   "execution_count": 11,
   "metadata": {},
   "outputs": [],
   "source": [
    "# 엑셀 파일을 읽고, 워크북 wb를 생성합니다.\n",
    "wb = load_workbook(filename = path + file)"
   ]
  },
  {
   "cell_type": "code",
   "execution_count": 12,
   "metadata": {},
   "outputs": [],
   "source": [
    "# 워크북에서 시트명으로 워크시트 ws를 생성합니다.\n",
    "ws = wb['Sheet1']"
   ]
  },
  {
   "cell_type": "markdown",
   "metadata": {},
   "source": [
    "## 셀 다루기"
   ]
  },
  {
   "cell_type": "markdown",
   "metadata": {},
   "source": [
    "### 하나의 셀 선택"
   ]
  },
  {
   "cell_type": "code",
   "execution_count": 13,
   "metadata": {},
   "outputs": [
    {
     "data": {
      "text/plain": [
       "'전일자 시장지표 현황'"
      ]
     },
     "execution_count": 13,
     "metadata": {},
     "output_type": "execute_result"
    }
   ],
   "source": [
    "# 워크시트에서 제목 셀(cell)을 지정하고 값을 출력합니다.\n",
    "# [참고] 엑셀은 행이름이 숫자, 열이름이 알파벳 대문자입니다.\n",
    "# 엑셀의 셀을 지정할 때, 열이름과 행이름 순으로 지정합니다.\n",
    "ws['B2'].value"
   ]
  },
  {
   "cell_type": "code",
   "execution_count": 14,
   "metadata": {},
   "outputs": [],
   "source": [
    "# 제목 셀 값을 변경합니다.\n",
    "ws['B2'].value = '전일자 시장지표 리포트'"
   ]
  },
  {
   "cell_type": "code",
   "execution_count": 15,
   "metadata": {},
   "outputs": [
    {
     "data": {
      "text/plain": [
       "'전일자 시장지표 리포트'"
      ]
     },
     "execution_count": 15,
     "metadata": {},
     "output_type": "execute_result"
    }
   ],
   "source": [
    "ws['B2'].value"
   ]
  },
  {
   "cell_type": "code",
   "execution_count": 17,
   "metadata": {},
   "outputs": [
    {
     "data": {
      "text/plain": [
       "'전일자 시장지표 리포트'"
      ]
     },
     "execution_count": 17,
     "metadata": {},
     "output_type": "execute_result"
    }
   ],
   "source": [
    "# ws.cell() 방식으로 특정 셀을 지정하는 방법을 소개합니다.\n",
    "# [참고] row와 column 매개변수에 정수 인덱스만 사용할 수 있습니다.\n",
    "ws.cell(row = 2, column = 2).value"
   ]
  },
  {
   "cell_type": "code",
   "execution_count": 18,
   "metadata": {},
   "outputs": [
    {
     "data": {
      "text/plain": [
       "<Cell 'Sheet1'.B2>"
      ]
     },
     "execution_count": 18,
     "metadata": {},
     "output_type": "execute_result"
    }
   ],
   "source": [
    "# ws.cell() 방식으로 특정 셀 값을 변경하는 방법을 소개합니다.\n",
    "ws.cell(row = 2, column = 2, value = '전일자 시장지표 보고서')"
   ]
  },
  {
   "cell_type": "code",
   "execution_count": 19,
   "metadata": {},
   "outputs": [
    {
     "data": {
      "text/plain": [
       "'전일자 시장지표 보고서'"
      ]
     },
     "execution_count": 19,
     "metadata": {},
     "output_type": "execute_result"
    }
   ],
   "source": [
    "# 제목 셀 값을 출력합니다.\n",
    "ws.cell(row = 2, column = 2).value"
   ]
  },
  {
   "cell_type": "markdown",
   "metadata": {},
   "source": [
    "### 다수의 셀 선택"
   ]
  },
  {
   "cell_type": "code",
   "execution_count": 20,
   "metadata": {},
   "outputs": [
    {
     "data": {
      "text/plain": [
       "(<Cell 'Sheet1'.A5>,\n",
       " <Cell 'Sheet1'.B5>,\n",
       " <Cell 'Sheet1'.C5>,\n",
       " <Cell 'Sheet1'.D5>,\n",
       " <Cell 'Sheet1'.E5>,\n",
       " <Cell 'Sheet1'.F5>)"
      ]
     },
     "execution_count": 20,
     "metadata": {},
     "output_type": "execute_result"
    }
   ],
   "source": [
    "# '5'행을 선택하면 엑셀 파일에 값이 입력된 모든 셀을 튜플로 반환합니다.\n",
    "# [참고] 값이 입력된 셀이 하나일 때에도 튜플로 반환됩니다.\n",
    "ws['5']"
   ]
  },
  {
   "cell_type": "code",
   "execution_count": 21,
   "metadata": {},
   "outputs": [
    {
     "data": {
      "text/plain": [
       "'구분'"
      ]
     },
     "execution_count": 21,
     "metadata": {},
     "output_type": "execute_result"
    }
   ],
   "source": [
    "# '5'행의 두 번째 셀만 선택하고, 입력된 값을 출력합니다.\n",
    "# [참고] 첫 번째 셀은 입력된 값이 없으므로 생략하였습니다.\n",
    "ws['5'][1].value"
   ]
  },
  {
   "cell_type": "code",
   "execution_count": null,
   "metadata": {},
   "outputs": [],
   "source": [
    "# 리스트 컴프리헨션으로 '5'행의 모든 셀에 입력된 값을 출력합니다.\n",
    "[cell.value for cell in ws['5']]"
   ]
  },
  {
   "cell_type": "code",
   "execution_count": null,
   "metadata": {},
   "outputs": [],
   "source": [
    "# 리스트 컴프리헨션으로 'B'열의 모든 셀에 입력된 값을 출력합니다.\n",
    "[cell.value for cell in ws['B']]"
   ]
  },
  {
   "cell_type": "code",
   "execution_count": 22,
   "metadata": {},
   "outputs": [
    {
     "data": {
      "text/plain": [
       "((<Cell 'Sheet1'.C6>,\n",
       "  <Cell 'Sheet1'.D6>,\n",
       "  <Cell 'Sheet1'.E6>,\n",
       "  <Cell 'Sheet1'.F6>),)"
      ]
     },
     "execution_count": 22,
     "metadata": {},
     "output_type": "execute_result"
    }
   ],
   "source": [
    "# 행/열 대신 콜론으로 연속된 셀을 지정하면 각 행은 튜플 안에 튜플로 반환됩니다.\n",
    "# 하나의 행을 지정할 때에도 튜플로 반환됩니다.\n",
    "ws['C6:F6']"
   ]
  },
  {
   "cell_type": "code",
   "execution_count": 23,
   "metadata": {},
   "outputs": [
    {
     "data": {
      "text/plain": [
       "(<Cell 'Sheet1'.C6>,\n",
       " <Cell 'Sheet1'.D6>,\n",
       " <Cell 'Sheet1'.E6>,\n",
       " <Cell 'Sheet1'.F6>)"
      ]
     },
     "execution_count": 23,
     "metadata": {},
     "output_type": "execute_result"
    }
   ],
   "source": [
    "# 따라서 콜론으로 연속된 셀을 지정하는 경우, 각 행을 선택하려면 인덱싱을 사용합니다.\n",
    "ws['C6:F6'][0]"
   ]
  },
  {
   "cell_type": "markdown",
   "metadata": {},
   "source": [
    "### 다수의 셀에 값 입력"
   ]
  },
  {
   "cell_type": "code",
   "execution_count": 24,
   "metadata": {},
   "outputs": [],
   "source": [
    "# 환전 고시 환율을 입력할 셀을 cells에 할당합니다.\n",
    "cells = ws['C6:F6'][0]"
   ]
  },
  {
   "cell_type": "code",
   "execution_count": 25,
   "metadata": {},
   "outputs": [
    {
     "data": {
      "text/plain": [
       "(<Cell 'Sheet1'.C6>,\n",
       " <Cell 'Sheet1'.D6>,\n",
       " <Cell 'Sheet1'.E6>,\n",
       " <Cell 'Sheet1'.F6>)"
      ]
     },
     "execution_count": 25,
     "metadata": {},
     "output_type": "execute_result"
    }
   ],
   "source": [
    "cells"
   ]
  },
  {
   "cell_type": "code",
   "execution_count": 27,
   "metadata": {},
   "outputs": [],
   "source": [
    "# 입력할 환전 고시 환율을 리스트로 지정합니다.\n",
    "rates = [1121.0, 1021.83, 1332.31, 170.75]"
   ]
  },
  {
   "cell_type": "code",
   "execution_count": 29,
   "metadata": {},
   "outputs": [
    {
     "data": {
      "text/plain": [
       "[(<Cell 'Sheet1'.C6>, 1121.0),\n",
       " (<Cell 'Sheet1'.D6>, 1021.83),\n",
       " (<Cell 'Sheet1'.E6>, 1332.31),\n",
       " (<Cell 'Sheet1'.F6>, 170.75)]"
      ]
     },
     "execution_count": 29,
     "metadata": {},
     "output_type": "execute_result"
    }
   ],
   "source": [
    "list(zip(cells, rates))"
   ]
  },
  {
   "cell_type": "code",
   "execution_count": 31,
   "metadata": {},
   "outputs": [],
   "source": [
    "# 리스트 컴프리헨션을 이용하여 환전 고시 환율을 입력합니다.\n",
    "# [참고] zip() 함수는 지정된 리스트의 대응하는 원소를 쌍으로 반환합니다.\n",
    "# [참고] 양식 엑셀 파일에는 환율 뒤에 '원'이 추가되도록 셀서식이 설정되어 있습니다.\n",
    "# 따라서 실수 대신 문자열을 입력하면 셀서식이 적용되지 않습니다.\n",
    "for cell, rate in zip(cells, rates):\n",
    "    cell.value = rate"
   ]
  },
  {
   "cell_type": "code",
   "execution_count": 32,
   "metadata": {},
   "outputs": [
    {
     "data": {
      "text/plain": [
       "[1121.0, 1021.83, 1332.31, 170.75]"
      ]
     },
     "execution_count": 32,
     "metadata": {},
     "output_type": "execute_result"
    }
   ],
   "source": [
    "# 입력 결과를 확인합니다.\n",
    "[cell.value for cell in cells]"
   ]
  },
  {
   "cell_type": "code",
   "execution_count": 34,
   "metadata": {},
   "outputs": [],
   "source": [
    "# 유가, 금시세를 입력할 셀을 cells에 할당합니다.\n",
    "cells = ws['C10:F10'][0]"
   ]
  },
  {
   "cell_type": "code",
   "execution_count": 35,
   "metadata": {},
   "outputs": [],
   "source": [
    "# 입력할 유가, 금시세를 리스트로 지정합니다.\n",
    "prices = [59.32, 1534.95, 1743.3, 62848.91]"
   ]
  },
  {
   "cell_type": "code",
   "execution_count": 36,
   "metadata": {},
   "outputs": [],
   "source": [
    "# 리스트 컴프리헨션을 이용하여 유가, 금시세를 입력합니다.\n",
    "# [참고] 양식 엑셀 파일에는 천 단위로 콤마가 추가되도록 셀서식이 설정되어 있습니다.\n",
    "# 따라서 실수 대신 문자열을 입력하면 셀서식이 적용되지 않습니다.\n",
    "for cell, price in zip(cells, prices):\n",
    "    cell.value = price"
   ]
  },
  {
   "cell_type": "code",
   "execution_count": 37,
   "metadata": {},
   "outputs": [
    {
     "data": {
      "text/plain": [
       "[59.32, 1534.95, 1743.3, 62848.91]"
      ]
     },
     "execution_count": 37,
     "metadata": {},
     "output_type": "execute_result"
    }
   ],
   "source": [
    "# 입력 결과를 확인합니다.\n",
    "[cell.value for cell in cells]"
   ]
  },
  {
   "cell_type": "markdown",
   "metadata": {},
   "source": [
    "## 새로운 엑셀 파일로 저장"
   ]
  },
  {
   "cell_type": "code",
   "execution_count": 39,
   "metadata": {},
   "outputs": [],
   "source": [
    "# 어제 날짜를 'yyyymmdd' 형태의 문자열로 생성합니다.\n",
    "today = '20210415'"
   ]
  },
  {
   "cell_type": "code",
   "execution_count": 40,
   "metadata": {},
   "outputs": [
    {
     "data": {
      "text/plain": [
       "'Market_Index_20210415.xlsx'"
      ]
     },
     "execution_count": 40,
     "metadata": {},
     "output_type": "execute_result"
    }
   ],
   "source": [
    "# f문자열을 이용하여 새로 저장할 엑셀 파일명을 생성합니다.\n",
    "file = f'Market_Index_{today}.xlsx' # f-string\n",
    "file"
   ]
  },
  {
   "cell_type": "code",
   "execution_count": 41,
   "metadata": {},
   "outputs": [],
   "source": [
    "# 엑셀 파일로 저장합니다.\n",
    "wb.save(filename = path + file)"
   ]
  },
  {
   "cell_type": "code",
   "execution_count": null,
   "metadata": {},
   "outputs": [],
   "source": []
  },
  {
   "cell_type": "markdown",
   "metadata": {},
   "source": [
    "<p style=\"font-family:verdana;font-size:200%;text-align:center;\">End of Document</p>"
   ]
  }
 ],
 "metadata": {
  "kernelspec": {
   "display_name": "Python 3",
   "language": "python",
   "name": "python3"
  },
  "language_info": {
   "codemirror_mode": {
    "name": "ipython",
    "version": 3
   },
   "file_extension": ".py",
   "mimetype": "text/x-python",
   "name": "python",
   "nbconvert_exporter": "python",
   "pygments_lexer": "ipython3",
   "version": "3.7.6"
  },
  "toc": {
   "base_numbering": 1,
   "nav_menu": {},
   "number_sections": true,
   "sideBar": true,
   "skip_h1_title": false,
   "title_cell": "Table of Contents",
   "title_sidebar": "Contents",
   "toc_cell": false,
   "toc_position": {
    "height": "calc(100% - 180px)",
    "left": "10px",
    "top": "150px",
    "width": "165px"
   },
   "toc_section_display": true,
   "toc_window_display": false
  },
  "varInspector": {
   "cols": {
    "lenName": 16,
    "lenType": 16,
    "lenVar": 40
   },
   "kernels_config": {
    "python": {
     "delete_cmd_postfix": "",
     "delete_cmd_prefix": "del ",
     "library": "var_list.py",
     "varRefreshCmd": "print(var_dic_list())"
    },
    "r": {
     "delete_cmd_postfix": ") ",
     "delete_cmd_prefix": "rm(",
     "library": "var_list.r",
     "varRefreshCmd": "cat(var_dic_list()) "
    }
   },
   "position": {
    "height": "144.4px",
    "left": "653px",
    "right": "20px",
    "top": "120px",
    "width": "350px"
   },
   "types_to_exclude": [
    "module",
    "function",
    "builtin_function_or_method",
    "instance",
    "_Feature"
   ],
   "window_display": false
  }
 },
 "nbformat": 4,
 "nbformat_minor": 4
}
