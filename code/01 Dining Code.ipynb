{
 "cells": [
  {
   "cell_type": "markdown",
   "metadata": {},
   "source": [
    "<p style=\"font-family:verdana;font-size:200%;text-align:center;\">Web Crawling Demo</p>"
   ]
  },
  {
   "cell_type": "markdown",
   "metadata": {},
   "source": [
    "- 아래 링크로 접속하여 화면 상단에 있는 검색창에 관심 있는 메뉴로 검색한 첫 페이지를 수집합니다.\n",
    "- 링크 : https://www.diningcode.com/"
   ]
  },
  {
   "cell_type": "markdown",
   "metadata": {},
   "source": [
    "## HTTP 요청 실행"
   ]
  },
  {
   "cell_type": "code",
   "execution_count": 1,
   "metadata": {},
   "outputs": [],
   "source": [
    "# 관련 라이브러리를 호출합니다.\n",
    "import requests"
   ]
  },
  {
   "cell_type": "code",
   "execution_count": null,
   "metadata": {},
   "outputs": [],
   "source": []
  },
  {
   "cell_type": "code",
   "execution_count": 2,
   "metadata": {},
   "outputs": [],
   "source": [
    "# 요청 URL을 설정합니다.\n",
    "url = 'https://www.diningcode.com/list.php'"
   ]
  },
  {
   "cell_type": "code",
   "execution_count": 3,
   "metadata": {
    "scrolled": true
   },
   "outputs": [],
   "source": [
    "# 검색어 설정합니다.\n",
    "search = '육회'"
   ]
  },
  {
   "cell_type": "code",
   "execution_count": 4,
   "metadata": {},
   "outputs": [
    {
     "data": {
      "text/plain": [
       "'%EC%9C%A1%ED%9A%8C'"
      ]
     },
     "execution_count": 4,
     "metadata": {},
     "output_type": "execute_result"
    }
   ],
   "source": [
    "# URL 인코딩 처리 결과를 확인합니다.\n",
    "# [참고] 사이트마다 한글 인코딩 방식이 다르며, 이 사이트는 한글로 검색할 수 있습니다.\n",
    "requests.utils.quote(string = search)"
   ]
  },
  {
   "cell_type": "code",
   "execution_count": 5,
   "metadata": {},
   "outputs": [],
   "source": [
    "# Query String을 딕셔너리로 생성합니다.\n",
    "# [참고] 파라미터가 2개 이상이면 콤마로 연결합니다.\n",
    "query = {'query': search}"
   ]
  },
  {
   "cell_type": "code",
   "execution_count": 6,
   "metadata": {},
   "outputs": [],
   "source": [
    "# HTTP 요청을 실행합니다.\n",
    "res = requests.get(url = url, params = query)"
   ]
  },
  {
   "cell_type": "code",
   "execution_count": 7,
   "metadata": {},
   "outputs": [
    {
     "data": {
      "text/plain": [
       "['__attrs__',\n",
       " '__bool__',\n",
       " '__class__',\n",
       " '__delattr__',\n",
       " '__dict__',\n",
       " '__dir__',\n",
       " '__doc__',\n",
       " '__enter__',\n",
       " '__eq__',\n",
       " '__exit__',\n",
       " '__format__',\n",
       " '__ge__',\n",
       " '__getattribute__',\n",
       " '__getstate__',\n",
       " '__gt__',\n",
       " '__hash__',\n",
       " '__init__',\n",
       " '__init_subclass__',\n",
       " '__iter__',\n",
       " '__le__',\n",
       " '__lt__',\n",
       " '__module__',\n",
       " '__ne__',\n",
       " '__new__',\n",
       " '__nonzero__',\n",
       " '__reduce__',\n",
       " '__reduce_ex__',\n",
       " '__repr__',\n",
       " '__setattr__',\n",
       " '__setstate__',\n",
       " '__sizeof__',\n",
       " '__str__',\n",
       " '__subclasshook__',\n",
       " '__weakref__',\n",
       " '_content',\n",
       " '_content_consumed',\n",
       " '_next',\n",
       " 'apparent_encoding',\n",
       " 'close',\n",
       " 'connection',\n",
       " 'content',\n",
       " 'cookies',\n",
       " 'elapsed',\n",
       " 'encoding',\n",
       " 'headers',\n",
       " 'history',\n",
       " 'is_permanent_redirect',\n",
       " 'is_redirect',\n",
       " 'iter_content',\n",
       " 'iter_lines',\n",
       " 'json',\n",
       " 'links',\n",
       " 'next',\n",
       " 'ok',\n",
       " 'raise_for_status',\n",
       " 'raw',\n",
       " 'reason',\n",
       " 'request',\n",
       " 'status_code',\n",
       " 'text',\n",
       " 'url']"
      ]
     },
     "execution_count": 7,
     "metadata": {},
     "output_type": "execute_result"
    }
   ],
   "source": [
    "dir(res)"
   ]
  },
  {
   "cell_type": "markdown",
   "metadata": {},
   "source": [
    "## HTTP 응답 확인"
   ]
  },
  {
   "cell_type": "code",
   "execution_count": 8,
   "metadata": {},
   "outputs": [
    {
     "data": {
      "text/plain": [
       "200"
      ]
     },
     "execution_count": 8,
     "metadata": {},
     "output_type": "execute_result"
    }
   ],
   "source": [
    "# HTTP 응답 상태코드를 확인합니다.\n",
    "# 200이면 정상입니다.\n",
    "res.status_code"
   ]
  },
  {
   "cell_type": "code",
   "execution_count": 9,
   "metadata": {},
   "outputs": [
    {
     "data": {
      "text/plain": [
       "{'Date': 'Wed, 14 Apr 2021 04:45:33 GMT', 'Content-Type': 'text/html; charset=UTF-8', 'Content-Length': '13539', 'Connection': 'keep-alive', 'Cache-Control': 'no-store, no-cache, must-revalidate, post-check=0, pre-check=0', 'Pragma': 'no-cache', 'Content-Encoding': 'gzip', 'Expires': 'Thu, 19 Nov 1981 08:52:00 GMT', 'Vary': 'Accept-Encoding', 'Server': 'Microsoft-IIS/8.0', 'X-Powered-By': 'PHP/5.6.16', 'Set-Cookie': 'PHPSESSID=ssqfidhbpcvkr5jrhhgbke41e0; path=/, dcadid=WKLEIY1618375533; expires=Tue, 08-Feb-2022 04:45:33 GMT; Max-Age=25920000; path=/; domain=.diningcode.com'}"
      ]
     },
     "execution_count": 9,
     "metadata": {},
     "output_type": "execute_result"
    }
   ],
   "source": [
    "# HTTP 응답 헤더를 확인합니다.\n",
    "# [참고] Content-Type이 'html'입니다.\n",
    "res.headers"
   ]
  },
  {
   "cell_type": "code",
   "execution_count": 10,
   "metadata": {},
   "outputs": [
    {
     "data": {
      "text/plain": [
       "'https://www.diningcode.com/list.php?query=%EC%9C%A1%ED%9A%8C'"
      ]
     },
     "execution_count": 10,
     "metadata": {},
     "output_type": "execute_result"
    }
   ],
   "source": [
    "# HTTP 요청 URL만 확인합니다.\n",
    "# [참고] 요청 URL을 웹 브라우저에서 실행했을 때 화면이 열려야 정상입니다.\n",
    "res.url"
   ]
  },
  {
   "cell_type": "code",
   "execution_count": 11,
   "metadata": {},
   "outputs": [
    {
     "data": {
      "text/plain": [
       "'\\ufeff<!DOCTYPE html>\\r\\n<html lang=\"ko\">\\r\\n<head>\\r\\n<meta content=\"text/html; charset=utf-8\" http-equiv=\"Content-Type\">\\r\\n<meta name=\"viewport\" content=\"width=device-width, initial-scale=1.0, maximum-scale=1.0\" />\\r\\n<meta content=kr name=content-language>\\r\\n<meta content=\"IE=Edge\" http-equiv=\"X-UA-Compatible\">\\r\\n<meta http-equiv=\"X-UA-Compatible\" content=\"IE=edge,chrome=1\">\\r\\n<meta name=\"description\" content=\"\\'육회\\' 맛집 육회자매집(육회, ★4.0), 어머니 대성집(육회비빔밥, ★4.2), 함양집(육회, ★4.0) 등 4,039곳의 전체 순위,식당정보,방문자리뷰,사진 등을 확인하세\">\\r\\n<meta property=\"fb:app_id\" content=\"347023355469829\"/>\\r\\n<meta property=\"og:title\" content=\"\\'육회\\' 빅데이터 맛집 순위 Top100 - 다이닝코드\" />\\r\\n<meta property=\"og:url\" content=\"https://www.diningcode.com/list.php?query=%EC%9C%A1%ED%9A%8C\"/>\\r\\n<meta property=\"og:site_name\" content=\"다이닝코드\"/>\\r\\n<meta property=\"og:description\" content=\"\\'육회\\' 맛집 육회자매집(육회, ★4.0), 어머니 대성집(육회비빔밥, ★4.2), 함양집(육회, ★4.0) 등 4,039곳의 전체 순위,식당정보,방문자리뷰,사진 등을 확인하세\"/>\\r\\n<meta property=\"og:image\" content=\"https://s3-ap-northeast-1.amazonaws.com/dcreviewsresized/300_300_20210404104216796_photo_3d185e226925.jpg\"/>\\r\\n<meta property=\"og:type\" content=\"website\">\\r\\n<meta name=\"twitter:card\" content=\"summary\">\\r\\n<meta name=\"twitter:url\" content=\"https://www.diningcode.com/list.php?query=%EC%9C%A1%ED%9A%8C\">\\r\\n<meta name=\"twitter:title\" content=\"\\'육회\\' 빅데이터 맛집 순위 Top100 - 다이닝코드\" />\\r\\n<meta name=\"twitter:image\" content=\"https://s3-ap-northeast-1.amazonaws.com/dcreviewsresized/300_300_20210404104216796_photo_3d185e226925.jpg\">\\r\\n<link rel=\"canonical\" href=\"https://www.diningcode.com/list.php?query=%EC%9C%A1%ED%9A%8C\" />\\r\\n<link rel=\"amphtml\" href=\"https://m.diningcode.com/m_list.php?query=%EC%9C%A1%ED%9A%8C\" />\\r\\n<link rel=\"alternate\" media=\"only screen and (max-width: 640px)\" href=\"https://m.diningcode.com/m_list.php?query=%EC%9C%A1%ED%9A%8C\"><title>\\'육회\\' 빅데이터 맛집 순위 Top100 - 다이닝코드</title>\\r\\n\\r\\n<link rel=\"stylesheet\" type=\"text/css\" href=\"https://s3-ap-northeast-1.amazonaws.com/dcicons/new/css/web/common.css?1.4.12\" />\\r\\n<link rel=\"stylesheet\" type=\"text/css\" href=\"https://s3-ap-northeast-1.amazonaws.com/dcicons/new/css/web/content.css?1.4.12\" />\\r\\n<link rel=\"stylesheet\" type=\"text/css\" href=\"https://s3-ap-northeast-1.amazonaws.com/dcicons/new/css/web/layout.css?1.4.12\" />\\r\\n<link rel=\"stylesheet\" type=\"text/css\" href=\"https://s3-ap-northeast-1.amazonaws.com/dcicons/new/css/web/main.css?1.4.12\" />\\r\\n<link rel=\"stylesheet\" type=\"text/css\" href=\"https://s3-ap-northeast-1.amazonaws.com/dcicons/new/css/web/styleDefault.css?1.4.12\" />\\r\\n<link rel=\"stylesheet\" type=\"text/css\" href=\"https://s3-ap-northeast-1.amazonaws.com/dcicons/new/css/web/sub.css?1.4.12\" />\\r\\n<link rel=\"stylesheet\" type=\"text/css\" href=\"https://s3-ap-northeast-1.amazonaws.com/dcicons/new/css/web/jquery.rateyo.min.css?1.4.12\" />\\r\\n<link rel=\"stylesheet\" type=\"text/css\" href=\"https://s3-ap-northeast-1.amazonaws.com/dcicons/new/css/swiper.min.css?1.4.12\" />\\r\\n<link rel=\"stylesheet\" type=\"text/css\" href=\"https://s3-ap-northeast-1.amazonaws.com/dcicons/new/css/custom.css?1.4.12\" />\\r\\n\\r\\n<script type=\"text/javascript\" src=\"https://s3-ap-northeast-1.amazonaws.com/dcicons/new/lib/js/web.js\"></script>\\r\\n\\r\\n<link rel=\"shortcut icon\" type=\"image/x-icon\" href=\"/2018/images/web/common/favicon.ico\" />\\r\\n\\r\\n<script src=\"https://s3-ap-northeast-1.amazonaws.com/dcicons/new/lib/js/jquery-1.12.0.min.js\" charset=\"utf-8\"></script>\\r\\n<script type=\"Text/JavaScript\" src=\"https://code.jquery.com/jquery-migrate-1.2.1.min.js\"></script>\\r\\n<script src=\"https://s3-ap-northeast-1.amazonaws.com/dcicons/new/lib/js/swiper.min.js\" charset=\"utf-8\"></script>\\r\\n<script src=\"https://s3-ap-northeast-1.amazonaws.com/dcicons/new/lib/js/getAjax.js?1.4.12\"></script>\\r\\n<script src=\"https://s3-ap-northeast-1.amazonaws.com/dcicons/new/lib/js/function.js?1.4.12\"></script>\\r\\n<script src=\"https://s3-ap-northeast-1.amazonaws.com/dcicons/new/lib/js/jquery.cookie.js?1.4.12\"></script>\\r\\n\\r\\n<script type=\"Text/JavaScript\" src=\"https://cdn.rawgit.com/nhnent/tui.code-snippet/v1.2.5/dist/tui-code-snippet.min.js\"></script>\\r\\n<script type=\"Text/JavaScript\" src=\"https://cdn.rawgit.com/faisalman/ua-parser-js/v0.7.1/src/ua-parser.min.js\"></script>\\r\\n<script type=\"Text/JavaScript\" src=\"https://s3-ap-northeast-1.amazonaws.com/dcicons/new/lib/js/appLoader/app-loader.min.js?1.4.12\"></script>\\r\\n<script type=\"Text/JavaScript\" src=\"https://s3-ap-northeast-1.amazonaws.com/dcicons/new/lib/js/appLoader.js?1.4.12\"></script>\\r\\n<script async src=\"https://pagead2.googlesyndication.com/pagead/js/adsbygoogle.js\"></script>\\r\\n\\r\\n\\t<!-- Facebook pixel -->\\r\\n\\t<script>\\r\\n\\t\\t!function (f, b, e, v, n, t, s) {\\r\\n\\t\\t\\tif (f.fbq)return;\\r\\n\\t\\t\\tn = f.fbq = function () {\\r\\n\\t\\t\\t\\tn.callMethod ?\\r\\n\\t\\t\\t\\t\\tn.callMethod.apply(n, arguments) : n.queue.push(arguments)\\r\\n\\t\\t\\t};\\r\\n\\t\\t\\tif (!f._fbq)f._fbq = n;\\r\\n\\t\\t\\tn.push = n;\\r\\n\\t\\t\\tn.loaded = !0;\\r\\n\\t\\t\\tn.version = \\'2.0\\';\\r\\n\\t\\t\\tn.queue = [];\\r\\n\\t\\t\\tt = b.createElement(e);\\r\\n\\t\\t\\tt.async = !0;\\r\\n\\t\\t\\tt.src = v;\\r\\n\\t\\t\\ts = b.getElementsByTagName(e)[0];\\r\\n\\t\\t\\ts.parentNode.insertBefore(t, s)\\r\\n\\t\\t}(window,\\r\\n\\t\\t\\tdocument, \\'script\\', \\'//connect.facebook.net/en_US/fbevents.js\\');\\r\\n\\t\\tfbq(\\'init\\', \\'950571798344364\\');\\r\\n\\t\\tfbq(\\'track\\', \"PageView\");\\r\\n\\t\\tfbq(\\'track\\', \"viewContent\");\\r\\n\\t</script>\\r\\n\\t<noscript>\\r\\n\\t\\t<img height=\"1\" width=\"1\" style=\"display:none\" src=\"https://www.facebook.com/tr?id=950571798344364&ev=PageView&noscript=1\"/>\\r\\n\\t</noscript>\\r\\n\\r\\n<!-- Naver -->\\r\\n<script type=\"text/javascript\" src=\"https://openapi.map.naver.com/openapi/v3/maps.js?ncpClientId=zqdk36n102\"></script>\\r\\n\\r\\n<!-- Kakao -->\\r\\n<script src=\"//developers.kakao.com/sdk/js/kakao.min.js\"></script>\\r\\n\\r\\n<!-- Google analytics -->\\r\\n<script async src=\"https://www.googletagmanager.com/gtag/js?id=UA-46679784-1\"></script>\\r\\n\\r\\n<script typ=\"Text/JavaScript\">\\r\\n// Search cookie\\r\\nif( $.cookie(\"dckeyword\") ) {\\r\\n\\tvar keyword\\t= JSON.parse($.cookie(\"dckeyword\"));\\r\\n}\\r\\nelse {\\r\\n\\tvar keyword;\\r\\n}\\r\\n\\r\\n// Kakao\\r\\nKakao.init(\\'17a48422597911bed5104a144393076f\\');\\r\\n\\r\\n// GA\\r\\nwindow.dataLayer = window.dataLayer || [];\\r\\nfunction gtag(){dataLayer.push(arguments);}\\r\\ngtag(\\'js\\', new Date());\\r\\ngtag(\\'config\\', \\'UA-46679784-1\\');\\r\\n</script>\\r\\n<script type=\"Text/JavaScript\">\\r\\nvar map;\\r\\nvar markers\\t\\t= [];\\r\\nvar infoWindows\\t= [];\\r\\nvar positions\\t= [];\\r\\nvar listener\\t= [];\\r\\nvar reLoad\\t\\t= \"\";\\r\\nvar type\\t\\t= \"\";\\r\\nvar query\\t\\t= \"육회\";\\r\\nvar lat\\t\\t\\t= \"\";\\r\\nvar lng\\t\\t\\t= \"\";\\r\\nvar dis\\t\\t\\t= \"\";\\r\\nvar rn\\t\\t\\t= \"\";\\r\\nvar chunk\\t\\t= \"10\";\\r\\nvar rx\\t\\t\\t= \"\";\\r\\nvar ry\\t\\t\\t= \"\";\\r\\nvar rw\\t\\t\\t= \"\";\\r\\nvar rh\\t\\t\\t= \"\";\\r\\nvar param\\t\\t= \"query=%EC%9C%A1%ED%9A%8C\";\\r\\nsetKinesis(\"list\", \"\", query, param);\\r\\n!function(a){function b(){var a=document.createElement(\"p\"),b=!1;if(a.addEventListener)a.addEventListener(\"DOMAttrModified\",function(){b=!0},!1);else{if(!a.attachEvent)return!1;a.attachEvent(\"onDOMAttrModified\",function(){b=!0})}return a.setAttribute(\"id\",\"target\"),b}function c(b,c){if(b){var d=this.data(\"attr-old-value\");if(c.attributeName.indexOf(\"style\")>=0){d.style||(d.style={});var e=c.attributeName.split(\".\");c.attributeName=e[0],c.oldValue=d.style[e[1]],c.newValue=e[1]+\":\"+this.prop(\"style\")[a.camelCase(e[1])],d.style[e[1]]=c.newValue}else c.oldValue=d[c.attributeName],c.newValue=this.attr(c.attributeName),d[c.attributeName]=c.newValue;this.data(\"attr-old-value\",d)}}var d=window.MutationObserver||window.WebKitMutationObserver;a.fn.attrchange=function(e,f){if(\"object\"==typeof e){var g={trackValues:!1,callback:a.noop};if(\"function\"==typeof e?g.callback=e:a.extend(g,e),g.trackValues&&this.each(function(b,c){for(var e,d={},b=0,f=c.attributes,g=f.length;g>b;b++)e=f.item(b),d[e.nodeName]=e.value;a(this).data(\"attr-old-value\",d)}),d){var h={subtree:!1,attributes:!0,attributeOldValue:g.trackValues},i=new d(function(b){b.forEach(function(b){var c=b.target;g.trackValues&&(b.newValue=a(c).attr(b.attributeName)),\"undefined\"==typeof a(this).data(\"attrchange-tdisconnect\")&&g.callback.call(c,b)})});return this.data(\"attrchange-method\",\"Mutation Observer\").data(\"attrchange-obs\",i).each(function(){i.observe(this,h)})}return b()?this.data(\"attrchange-method\",\"DOMAttrModified\").on(\"DOMAttrModified\",function(b){b.originalEvent&&(b=b.originalEvent),b.attributeName=b.attrName,b.oldValue=b.prevValue,\"undefined\"==typeof a(this).data(\"attrchange-tdisconnect\")&&g.callback.call(this,b)}):\"onpropertychange\"in document.body?this.data(\"attrchange-method\",\"propertychange\").on(\"propertychange\",function(b){b.attributeName=window.event.propertyName,c.call(a(this),g.trackValues,b),\"undefined\"==typeof a(this).data(\"attrchange-tdisconnect\")&&g.callback.call(this,b)}):this}return\"string\"==typeof e&&a.fn.attrchange.hasOwnProperty(\"extensions\")&&a.fn.attrchange.extensions.hasOwnProperty(e)?a.fn.attrchange.extensions[e].call(this,f):void 0}}(jQuery);\\r\\n$(document).ready(function () {\\r\\n    $(\".localeft-cont\").attrchange({\\r\\n        callback : function(e) {\\r\\n            var bodyHeight = document.documentElement.clientHeight;\\r\\n            var headerH_ = $(\\'#header-wrap\\').outerHeight();\\r\\n            $(\\'.localeft-cont\\').css({\\'height\\': bodyHeight - headerH_});\\r\\n            $(\\'.maploca-cont\\').css({\\'height\\': bodyHeight - headerH_ , \\'width\\':$(\\'#contents\\').width() - 472});\\r\\n        }\\r\\n    });\\r\\n\\tvar bodyHeight = document.documentElement.clientHeight;\\r\\n\\tvar headerH_ = $(\\'#header-wrap\\').outerHeight();\\r\\n\\t$(\\'.localeft-cont\\').css({\\'height\\': bodyHeight - headerH_});\\r\\n\\t$(\\'.maploca-cont\\').css({\\'height\\': bodyHeight - headerH_ , \\'width\\':$(\\'#contents\\').width() - 472});\\r\\n\\r\\n\\t// 카테고리 버튼\\r\\n\\t$(\\'.btns a\\').each(function () {\\r\\n\\t\\tif( $(this).height() > 38 ) {\\r\\n\\t\\t\\t$(this).find(\"span\").css({\"font-size\" : \"11px\"});\\r\\n\\t\\t}\\r\\n\\t});\\r\\n\\r\\n\\t// Naver map\\r\\n\\tvar position = new naver.maps.LatLng(37.570603, 126.999923);\\r\\n\\tmap\\t= new naver.maps.Map(\\'div_map\\', {\\r\\n        useStyleMap: true,\\r\\n\\t\\tcenter: position,\\r\\n\\t\\tzoom: 15,\\r\\n\\t\\tzoomControl: true,\\r\\n\\t\\tzoomControlOptions: {\\r\\n\\t\\t\\tstyle: naver.maps.ZoomControlStyle.LARGE,\\r\\n\\t\\t\\tposition: naver.maps.Position.RIGHT_BOTTOM\\r\\n\\t\\t}\\r\\n\\t});\\r\\n\\r\\n\\t// 테스트\\r\\n\\t// positions.push(position);\\r\\n\\t//setCenter(map, <?//=$maplat?>//, <?//=$maplng?>//);\\r\\n\\t//var marker = new naver.maps.Marker({\\r\\n\\t//\\tposition: new naver.maps.LatLng(<?//=$maplat?>//, <?//=$maplng?>//),\\r\\n\\t//\\tmap: map,\\r\\n\\t//\\ticon: {\\r\\n\\t//\\t\\turl: \\'https://dfzrjox9sv97l.cloudfront.net/micons/img/map_icon/map_icon/marker_mylacation.png\\', //50, 68 크기의 원본 이미지\\r\\n\\t//\\t\\tsize: new naver.maps.Size(34, 34),\\r\\n\\t//\\t\\tscaledSize: new naver.maps.Size(34, 34),\\r\\n\\t//\\t\\torigin: new naver.maps.Point(0, 0),\\r\\n\\t//\\t\\tanchor: new naver.maps.Point(17, 17)\\r\\n\\t//\\t}\\r\\n\\t//});\\r\\n\\t// 네모상자\\r\\n\\t\\r\\n\\t// 마커\\r\\n\\tfor(i=0; i<jMap.length; i++ ) {\\r\\n\\t\\tsetMarker(map, new naver.maps.LatLng(jMap[i][\\'lat\\'], jMap[i][\\'lng\\']), jMap[i][\\'no\\']);\\r\\n\\t\\tpositions.push(new naver.maps.LatLng(jMap[i][\\'lat\\'], jMap[i][\\'lng\\']));\\r\\n\\t}\\r\\n\\r\\n\\t\\r\\n\\tmap.fitBounds(positions,{top:20,bottom:20,left:20,right:20});\\r\\n\\r\\n\\tfor( i=0; i<markers.length; i++ ) {\\r\\n\\t\\tlistener.push(naver.maps.Event.addListener(markers[i], \\'click\\', getInfo(i)));\\r\\n\\t}\\r\\n\\r\\n\\tnew naver.maps.Event.addListener(map, \\'click\\', function(e) {\\r\\n\\t\\tinfoWindows[0].open(map, markers[0]);\\r\\n\\t\\tinfoWindows[0].close();\\r\\n\\t});\\r\\n\\r\\n\\t// 이지역 재검색\\r\\n\\t$(\\'#btn_research\\').click(function () {\\r\\n\\t\\tvar bound\\t= map.getBounds();\\r\\n\\t\\t// $(\\'#div_shadow\\').show();\\r\\n\\r\\n\\t\\t//ry : 중앙가로줄(latitude)\\r\\n\\t\\t//rx : 중앙세로줄(longitude)\\r\\n\\t\\t//rw : 가로거리\\r\\n\\t\\t//rh : 세로거리\\r\\n\\r\\n\\t\\try\\t= bound.getCenter()._lat;\\r\\n\\t\\trx\\t= bound.getCenter()._lng;\\r\\n\\t\\trw\\t= (bound._max._lng - bound._min._lng);\\r\\n\\t\\trh\\t= (bound._max._lat - bound._min._lat);\\r\\n\\r\\n\\t\\t// // 네모상자\\r\\n\\t\\t// var rectangle = new naver.maps.Rectangle({\\r\\n\\t\\t// \\tstrokeColor: \\'#ff00ff\\',\\r\\n\\t\\t// \\tstrokeOpacity: 0.8,\\r\\n\\t\\t// \\tstrokeWeight: 2,\\r\\n\\t\\t// \\tfillColor: \\'#ff00ff\\',\\r\\n\\t\\t// \\tfillOpacity: 0.35,\\r\\n\\t\\t// \\tbounds: new naver.maps.LatLngBounds(\\r\\n\\t\\t// \\t\\tnew naver.maps.LatLng(bound._max._lat, bound._max._lng),\\r\\n\\t\\t// \\t\\tnew naver.maps.LatLng(bound._min._lat, bound._min._lng)),\\r\\n\\t\\t// \\tmap: map\\r\\n\\t\\t// });\\r\\n\\r\\n\\t\\t// return;\\r\\n\\r\\n\\t\\t// 위치 재설정\\r\\n\\t\\tlat\\t= bound.getCenter()._lat;\\r\\n\\t\\tlng\\t= bound.getCenter()._lng;\\r\\n\\r\\n\\t\\t// location.href\\t= \"/list.php?query=\" + encodeURIComponent(query) + \"&rx=\" + rx + \"&ry=\" + ry + \"&rw=\" + rw + \"&rh=\" + rh + \"&page=1&chunk=\" + chunk + \"&reload=Y&map=\" + bound._max._lat+ \",\" + bound._max._lng + \",\" + bound._min._lat + \",\" + bound._min._lng;\\r\\n\\t\\tlocation.href\\t= \"/list.php?query=\" + encodeURIComponent(query) + \"&rx=\" + rx + \"&ry=\" + ry + \"&rw=\" + rw + \"&rh=\" + rh + \"&page=1&chunk=\" + chunk + \"&reload=Y&rn=\" + rn;\\r\\n\\t});\\r\\n\\r\\n\\t$(window).resize(function() {\\r\\n\\t\\tvar bodyHeight = document.documentElement.clientHeight;\\r\\n\\t\\tvar headerH_ = $(\\'#header-wrap\\').outerHeight();\\r\\n\\t\\t$(\\'.localeft-cont\\').css({\\'height\\': bodyHeight - headerH_});\\r\\n\\t\\t$(\\'#map-area-wrap\\').css({\\'height\\': bodyHeight - headerH_ , \\'width\\':$(\\'#contents\\').width() - 472});\\r\\n\\t\\tmap.setSize(new naver.maps.Size($(window).width() - 472, bodyHeight - headerH_));\\r\\n\\t\\tmap.fitBounds(positions,{top:20,bottom:20,left:20,right:20});\\r\\n\\t});\\r\\n\\r\\n\\tif($(\\'#map-area-wrap\\').outerWidth() >= 750) {\\r\\n        (adsbygoogle = window.adsbygoogle || []).push({});\\r\\n        $(\"#btn-ad-close\").show();\\r\\n    }\\r\\n});\\r\\n\\r\\nfunction getInfo(no) {\\r\\n\\tvar marker\\t\\t= markers[no];\\r\\n\\tvar infoWindow\\t= infoWindows[no];\\r\\n\\treturn function(e) {\\r\\n\\t\\tif (infoWindow.getMap()) {\\r\\n\\t\\t\\tinfoWindow.close();\\r\\n\\t\\t} else {\\r\\n\\t\\t\\tinfoWindow.open(map, marker);\\r\\n\\t\\t}\\r\\n\\t}\\r\\n}\\r\\n\\r\\nfunction setCenter(map, lat, lng) {\\r\\n\\tmap.setCenter(new naver.maps.LatLng(lat, lng));\\r\\n}\\r\\n\\r\\nfunction setMarker(map, position, no) {\\r\\n\\tvar i\\t\\t= no - 1;\\r\\n\\tno\\t\\t\\t= (parseInt($(\\'#hdn_page\\').val()) - 1) * chunk + no;\\r\\n\\tvar icon\\t= ( no == 1 ) ? \"marker-sel\" : \"marker-nor\";\\r\\n\\tvar marker\\t= new naver.maps.Marker({\\r\\n\\t\\tmap: map,\\r\\n\\t\\tposition: position,\\r\\n\\t\\ticon: {\\r\\n\\t\\t\\tcontent: [\\r\\n\\t\\t\\t\\t\\'<span id=\"lbl_marker_\\' + no + \\'\" image=\"\\' + jMap[i][\\'image\\'] + \\'\" rn=\"\\' + jMap[i][\\'rn\\'] + \\'\" score=\"\\' + jMap[i][\\'score\\'] + \\'\" address=\"\\' + jMap[i][\\'address\\'] + \\'\" area=\"\\' + jMap[i][\\'area\\'] + \\'\"  class=\"mapIcon \\' + icon + \\'\" onClick=\"getPanel(\\' + no + \\');\">\\' + no + \\'</span>\\'\\r\\n\\t\\t\\t].join(\\'\\'),\\r\\n\\t\\t\\tsize: new naver.maps.Size(36, 48)\\r\\n\\t\\t},\\r\\n\\t});\\r\\n\\r\\n\\tvar contentString = [\\r\\n\\t\\t\\t\\'<div class=\"button\" onClick=\"window.open(\\\\\\'/profile.php?rid=\\' + jMap[i][\\'v_rid\\'] + \\'\\\\\\');\">\\'\\r\\n\\t\\t,\\t\\'\\t<div class=\"fl\" style=\"width:70px; height:70px; padding:10px;\"><div style=\"width:100%; height:100%; overflow:hidden; background:url(\\' + jMap[i][\\'image\\'] + \\'); no-repeat; background-size:auto 70px; background-position: center;\" /></div></div>\\'\\r\\n\\t\\t,\\t\\'\\t<div class=\"fl\" style=\"padding-top:5px; font-size:13px;\">\\'\\r\\n\\t\\t,\\t\\'\\t\\t<div id=\"div_rest_rn\" class=\"fl\" style=\"width:140px; overflow:hidden; white-space:nowrap; text-overflow:ellipsis; line-height:30px; font-weight:bold;\">\\' + no + \\'. \\' + jMap[i][\\'rn\\'] + \\'</div>\\'\\r\\n\\t\\t,\\t\\'\\t\\t<div id=\"div_rest_score\" class=\"fr\" style=\"width:40px; line-height:30px; font-weight:bold;\">\\' + jMap[i][\\'score\\'] + \\'점</div>\\'\\r\\n\\t\\t,\\t\\'\\t\\t<div style=\"clear:both;\"></div>\\'\\r\\n\\t\\t,\\t\\'\\t\\t<div id=\"lbl_rest_address\" style=\"width:170px; white-space:nowrap; overflow:hidden; text-overflow:ellipsis;\">\\' + jMap[i][\\'address\\'] + \\'</div>\\'\\r\\n\\t\\t,\\t\\'\\t\\t<div id=\"lbl_rest_area\">\\' + jMap[i][\\'area\\'] + \\'</div>\\'\\r\\n\\t\\t,\\t\\'\\t</div>\\'\\r\\n\\t\\t,\\t\\'\\t<div class=\"clear\"></div>\\'\\r\\n\\t\\t,\\t\\'</div>\\'\\r\\n\\t].join(\\'\\');\\r\\n\\r\\n\\tvar infoWindow = new naver.maps.InfoWindow({\\r\\n\\t\\tcontent: contentString\\r\\n\\t});\\r\\n\\r\\n\\tif( no == 1 ) {\\r\\n\\t\\tinfoWindow.open(map, marker);\\r\\n\\t}\\r\\n\\r\\n\\tmarkers.push(marker);\\r\\n\\tinfoWindows.push(infoWindow);\\r\\n}\\r\\n\\r\\nfunction setIcon(no) {\\r\\n\\t// 리스트 마우스 오버\\r\\n\\tgetPanel(no);\\r\\n\\tvar marker\\t\\t= markers[no-1];\\r\\n\\tvar infoWindow\\t= infoWindows[no-1];\\r\\n\\tinfoWindow.open(map, marker);\\r\\n}\\r\\n\\r\\nfunction getPanel(no) {\\r\\n\\tvar obj\\t= $(\\'#lbl_marker_\\' + no);\\r\\n\\r\\n\\t$(\\'.marker-sel\\').addClass(\"marker-nor\");\\r\\n\\t$(\\'.marker-sel\\').removeClass(\"marker-sel\");\\r\\n\\tobj.removeClass(\"marker-nor\");\\r\\n\\tobj.addClass(\"marker-sel\");\\r\\n}\\r\\n\\r\\nfunction getMoreList() {\\r\\n\\tvar page\\t= parseInt($(\\'#hdn_page\\').val());\\r\\n\\tvar pageT\\t= parseInt($(\\'#hdn_pageT\\').val());\\r\\n\\r\\n\\tif( page < pageT ) {\\r\\n\\t\\t$(\\'#div_shadow\\').show();\\r\\n\\t\\t$(\\'#hdn_page\\').val(page + 1);\\r\\n\\r\\n\\t\\tif( reLoad == \"Y\" ) {\\r\\n\\t\\t\\tvar jData\\t= {\"type\" : type, \"query\" : encodeURIComponent(query), \"rx\" : rx, \"ry\" : ry, \"rw\" : rw, \"rh\" : rh, \"page\" : $(\\'#hdn_page\\').val(), \"chunk\" : chunk, \"rn\" : rn, \"reload\" : reLoad};\\r\\n\\t\\t}\\r\\n\\t\\telse {\\r\\n\\t\\t\\tvar jData\\t= {\"type\" : type, \"query\" : encodeURIComponent(query), \"lat\" : lat, \"lng\" : lng, \"dis\" : dis, \"page\" : $(\\'#hdn_page\\').val(), \"chunk\" : chunk, \"rn\" : rn};\\r\\n\\t\\t}\\r\\n\\r\\n\\t\\t$.post(\\'/2018/ajax/list.php\\', jData, function(data) {\\r\\n\\t\\t\\t$(\\'#div_list\\').append(data);\\r\\n\\t\\t\\t$(\\'#div_shadow\\').hide();\\r\\n\\t\\t});\\r\\n\\t}\\r\\n}\\r\\n</script>\\r\\n</head>\\r\\n<body class=\"loca\">\\r\\n<!-- 2021-01-04 -->\\r\\n<div id=\"div_shadow\" style=\"display:none;\"><div class=\"loading\"></div></div>\\r\\n<div id=\"skipNavi\">\\r\\n\\t<h1 class=\"blind\">DININGCODE 스킵네비게이션</h1>\\r\\n\\t<ul>\\r\\n\\t\\t<li><a href=\"#contents\" class=\"skipLink\">본문바로가기</a></li>\\r\\n\\t\\t<li><a href=\"#topmenu\" class=\"skipLink\">주메뉴바로가기</a></li>\\r\\n\\t</ul>\\r\\n</div>\\r\\n<!-- s: #doc //-->\\r\\n<div id=\"doc\" class=\"isPage\">\\r\\n\\t<!-- s: .doc-pg //-->\\r\\n\\t<div id=\"pg-code\" class=\"doc-pg\">\\r\\n\\t\\t<!-- s : header-wrap -->\\r\\n\\t\\t<div id=\"div_header_bg\" onClick=\"$(\\'#div_search, #div_header_bg\\').hide();\"></div>\\r\\n\\t\\t<header id=\"header-wrap\" class=\"div-cont\">\\r\\n\\t\\t\\t<div id=\"header\">\\r\\n\\t\\t\\t\\t<!-- s: 로고,검색,gnb-->\\r\\n\\t\\t\\t\\t<a href=\"/\" class=\"t-logo\"><span class=\"blind\">DININGCODE</span></a>\\r\\n\\t\\t\\t\\t<form method=\"GET\" action=\"isearch.php\">\\r\\n\\t\\t\\t\\t<p class=\"t-search\">\\r\\n\\t\\t\\t\\t\\t<input id=\"txt_keyword\" name=\"query\" placeholder=\"음식명으로 주변 맛집을 찾아보세요\" type=\"text\" value=\"육회\" autocomplete=\"off\" onClick=\"$(\\'#div_search, #div_header_bg\\').show(); getKeyword();\" onKeyup=\"if( event.keyCode != 13 ) { getKeyword(); }\" />\\r\\n\\t\\t\\t\\t\\t<button type=\"submit\" style=\"display:none;\"></button>\\r\\n\\t\\t\\t\\t</p>\\r\\n\\t\\t\\t\\t</form>\\r\\n\\r\\n\\t\\t\\t\\t<ul class=\"t-gnb\">\\r\\n\\t\\t\\t\\t\\t\\t\\t\\t\\t\\t<li><a href=\"/user/?mode=login\">로그인</a></li>\\r\\n\\t\\t\\t\\t\\t<li><a href=\"/user/?mode=intro&retURL=/list.php\">회원가입</a></li>\\r\\n\\t\\t\\t\\t\\t\\t\\t\\t\\t</ul>\\r\\n\\t\\t\\t\\t<div id=\"div_search\" class=\"search-info\">\\r\\n\\t\\t\\t\\t\\t<p id=\"div_search_slogan\" class=\"top-txt\">\\r\\n\\t\\t\\t\\t\\t\\t<span>숨은맛집이 궁금하신가요 ? \\'숨은\\' 으로 검색하면, 나만모르는 맛집이 나와요.</span>\\r\\n\\t\\t\\t\\t\\t</p>\\r\\n\\r\\n\\t\\t\\t\\t\\t<div id=\"div_search_history\" class=\"left-cont\">\\r\\n\\t\\t\\t\\t\\t\\t<p class=\"tit\">최근검색기록</p>\\r\\n\\t\\t\\t\\t\\t\\t<ul class=\"near-list searchList\" style=\"height:255px; overflow:auto;\">\\r\\n\\t\\t\\t\\t\\t\\t\\t\\t\\t\\t\\t\\t\\t</ul>\\r\\n\\t\\t\\t\\t\\t</div>\\r\\n\\t\\t\\t\\t\\t<div id=\"div_search_recomm\" class=\"right-cont\">\\r\\n\\t\\t\\t\\t\\t\\t<p class=\"tit\">추천검색</p>\\r\\n\\t\\t\\t\\t\\t\\t<ul class=\"recom-icon\">\\r\\n<!--\\t\\t\\t\\t\\t\\t\\t<li>-->\\r\\n<!--\\t\\t\\t\\t\\t\\t\\t\\t<a href=\"#n\">-->\\r\\n<!--\\t\\t\\t\\t\\t\\t\\t\\t\\t<span class=\"icon hot\"><span class=\"blind\">오늘은 인기맛집</span></span>-->\\r\\n<!--\\t\\t\\t\\t\\t\\t\\t\\t\\t<span>오늘은<br/>인기맛집</span>-->\\r\\n<!--\\t\\t\\t\\t\\t\\t\\t\\t</a>-->\\r\\n<!--\\t\\t\\t\\t\\t\\t\\t</li>-->\\r\\n\\t\\t\\t\\t\\t\\t\\t\\t\\t\\t\\t\\t\\t</ul>\\r\\n<!--\\t\\t\\t\\t\\t\\t<a href=\"#n\" class=\"search-banner\">-->\\r\\n<!--\\t\\t\\t\\t\\t\\t\\t<img src=\"/2018/images/web/Layout/search-banner.png\" alt=\"샘플\">-->\\r\\n<!--\\t\\t\\t\\t\\t\\t</a>-->\\r\\n\\t\\t\\t\\t\\t\\t<a href=\"JavaScript:void(0);\" onClick=\"$(\\'#div_search, #div_header_bg\\').hide();\" class=\"search-info-close\"><span>닫기</span></a>\\r\\n\\t\\t\\t\\t\\t</div>\\r\\n\\t\\t\\t\\t\\t<!-- s: 연관 검색어-->\\r\\n\\t\\t\\t\\t\\t<div id=\"div_search_keyup\" class=\"related-search listtype\">\\r\\n\\t\\t\\t\\t\\t\\t<ul class=\"list\"></ul>\\r\\n\\t\\t\\t\\t\\t\\t<a href=\"JavaScript:void(0);\" onClick=\"$(\\'#div_search, #div_header_bg\\').hide();\" class=\"related-search-close\"><span>닫기</span></a>\\r\\n\\t\\t\\t\\t\\t</div>\\r\\n\\t\\t\\t\\t\\t<!-- e: 연관 검색어-->\\r\\n\\t\\t\\t\\t</div>\\r\\n\\t\\t\\t\\t<!-- e: 검색 정보-->\\r\\n\\t\\t\\t</div>\\r\\n\\t\\t</header>\\r\\n\\t\\t<!-- e : header-wrap -->\\r\\n\\t\\t<!-- s: #container-wrap //-->\\r\\n\\t\\t<div id=\"container-wrap\" >\\r\\n\\t\\t\\t<div id=\"contents\">\\r\\n\\t\\t\\t\\t<!-- // page-start -->\\r\\n\\r\\n\\t\\t\\t\\t<!-- s:지도검색 왼쪽 컨텐츠-->\\r\\n\\t\\t\\t\\t<div class=\"localeft-cont\">\\r\\n\\t\\t\\t\\t\\t<div class=\"lc-list recom-cate button short\" onClick=\"$(this).toggleClass(\\'short\\');\">\\r\\n\\t\\t\\t\\t\\t\\t<p class=\"tit\"><strong> </strong>추천 카테고리</p>\\r\\n\\t\\t\\t\\t\\t\\t<div class=\"btns\">\\r\\n\\t\\t\\t\\t\\t<a href=\"/list.php?query=배달\" class=\"btn\"><span>배달</span></a>\\t\\t\\t\\t\\t<a href=\"/list.php?query=백년가게\" class=\"btn\"><span>백년가게</span></a>\\t\\t\\t\\t\\t<a href=\"/list.php?query=수요미식회\" class=\"btn\"><span>수요미식회</span></a>\\t\\t\\t\\t\\t<a href=\"/list.php?query=백종원의3대천왕\" class=\"btn\"><span>백종원의3대천왕</span></a>\\t\\t\\t\\t\\t<a href=\"/list.php?query=생활의달인\" class=\"btn\"><span>생활의달인</span></a>\\t\\t\\t\\t\\t<a href=\"/list.php?query=먹거리X파일\" class=\"btn\"><span>먹거리X파일</span></a>\\t\\t\\t\\t\\t<a href=\"/list.php?query=TV맛집\" class=\"btn\"><span>TV맛집</span></a>\\t\\t\\t\\t\\t<a href=\"/list.php?query=한식\" class=\"btn\"><span>한식</span></a>\\t\\t\\t\\t\\t<a href=\"/list.php?query=중식\" class=\"btn\"><span>중식</span></a>\\t\\t\\t\\t\\t<a href=\"/list.php?query=일식\" class=\"btn\"><span>일식</span></a>\\t\\t\\t\\t\\t<a href=\"/list.php?query=카페\" class=\"btn\"><span>카페</span></a>\\t\\t\\t\\t\\t<a href=\"/list.php?query=술집\" class=\"btn\"><span>술집</span></a>\\t\\t\\t\\t\\t<a href=\"/list.php?query=고기집\" class=\"btn\"><span>고기집</span></a>\\t\\t\\t\\t\\t<a href=\"/list.php?query=횟집\" class=\"btn\"><span>횟집</span></a>\\t\\t\\t\\t\\t<a href=\"/list.php?query=해산물\" class=\"btn\"><span>해산물</span></a>\\t\\t\\t\\t\\t<a href=\"/list.php?query=밥집\" class=\"btn\"><span>밥집</span></a>\\t\\t\\t\\t\\t<a href=\"/list.php?query=분식\" class=\"btn\"><span>분식</span></a>\\t\\t\\t\\t\\t<a href=\"/list.php?query=패스트푸드\" class=\"btn\"><span>패스트푸드</span></a>\\t\\t\\t\\t\\t<a href=\"/list.php?query=파스타\" class=\"btn\"><span>파스타</span></a>\\t\\t\\t\\t\\t<a href=\"/list.php?query=뷔페\" class=\"btn\"><span>뷔페</span></a>\\t\\t\\t\\t\\t<a href=\"/list.php?query=국물요리\" class=\"btn\"><span>국물요리</span></a>\\t\\t\\t\\t\\t<a href=\"/list.php?query=면요리\" class=\"btn\"><span>면요리</span></a>\\t\\t\\t\\t\\t<a href=\"/list.php?query=이탈리안\" class=\"btn\"><span>이탈리안</span></a>\\t\\t\\t\\t\\t<a href=\"/list.php?query=멕시칸\" class=\"btn\"><span>멕시칸</span></a>\\t\\t\\t\\t\\t<a href=\"/list.php?query=프렌치\" class=\"btn\"><span>프렌치</span></a>\\t\\t\\t\\t\\t<a href=\"/list.php?query=아시안\" class=\"btn\"><span>아시안</span></a>\\r\\n\\t\\t\\t\\t\\t\\t</div>\\r\\n\\t\\t\\t\\t\\t\\t<div class=\"more-btn\"><span class=\"blind\">닫기/열기</span></div>\\r\\n\\t\\t\\t\\t\\t</div>\\r\\n\\t\\t\\t\\t\\t<div class=\"lc-list high-rank\">\\r\\n\\t\\t\\t\\t\\t\\t<p id=\"lbl_title\" class=\"btit\"><strong>육회</strong> 상위 랭킹 맛집</p>\\r\\n\\t\\t\\t\\t\\t\\t<p id=\"lbl_count\" class=\"stit\">4,039곳의 맛집</p>\\r\\n\\t\\t\\t\\t\\t\\t<ul id=\"div_list\" class=\"list\">\\r\\n\\t\\t\\t\\t\\t\\t\\t<input id=\"hdn_pageT\" type=\"hidden\" value=\"404\" /><input id=\"hdn_page\" type=\"hidden\" value=\"1\" />\\t\\t\\t<li id=\"ad-area-1\">\\r\\n\\t\\t\\t</li>\\r\\n\\t\\t<li onMouseEnter=\"setIcon(1);\">\\r\\n\\t\\t\\t<a href=\"/profile.php?rid=UnXnkSGX0rKP\" class=\"blink\" target=\"_blank\">\\r\\n\\t\\t\\t\\t<span class=\"img\" style=\"overflow:hidden; background:url(\\'https://s3-ap-northeast-1.amazonaws.com/dcreviewsresized/300_300_20210404104216796_photo_3d185e226925.jpg\\') no-repeat; background-size:auto 100px; background-position:center;\"></span>\\r\\n\\t\\t\\t\\t<span class=\"btxt\">1. 육회자매집</span>\\r\\n\\t\\t\\t\\t<span class=\"stxt\"><strong>육회</strong>, <strong>육회비빔밥</strong></span>\\r\\n\\t\\t\\t\\t<span class=\"ctxt\">2019대표맛집, 술모임, 시끌벅적한</span>\\r\\n\\t\\t\\t\\t<span class=\"ctxt\"><i class=\"loca\">광장시장</i>서울특별시 종로구 종로4가 177</span>\\r\\n\\t\\t\\t\\t<span class=\"icons\">\\r\\n\\t\\t\\t\\t\\t\\t\\t\\t\\t\\t                    \\t\\t\\t\\t</span>\\r\\n\\t\\t\\t</a>\\r\\n\\t\\t\\t<p class=\"favor-review\">\\r\\n\\t\\t\\t\\t<span class=\"favor button\" onClick=\"setFavorites(\\'restaurant\\', \\'UnXnkSGX0rKP\\', this);\" value=\"Y\">746</span>\\r\\n\\t\\t\\t\\t<span class=\"review button\" onClick=\"getReview(\\'UnXnkSGX0rKP\\');\">91</span>\\r\\n\\t\\t\\t\\t<span class=\"point\">87점</span>\\r\\n\\t\\t\\t\\t\\t\\t\\t</p>\\r\\n\\t\\t</li>\\r\\n\\t\\t\\t<li onMouseEnter=\"setIcon(2);\">\\r\\n\\t\\t\\t<a href=\"/profile.php?rid=Wphn9urf9Crj\" class=\"blink\" target=\"_blank\">\\r\\n\\t\\t\\t\\t<span class=\"img\" style=\"overflow:hidden; background:url(\\'https://s3-ap-northeast-1.amazonaws.com/dcreviewsresized/300_300_20210312060205_photo1_f7c1425b9393.jpg\\') no-repeat; background-size:auto 100px; background-position:center;\"></span>\\r\\n\\t\\t\\t\\t<span class=\"btxt\">2. 어머니 대성집</span>\\r\\n\\t\\t\\t\\t<span class=\"stxt\">해장국, <strong>육회비빔밥</strong>, <strong>육회</strong></span>\\r\\n\\t\\t\\t\\t<span class=\"ctxt\">다코매거진선정, 술모임, 무료주차</span>\\r\\n\\t\\t\\t\\t<span class=\"ctxt\"><i class=\"loca\">용두동</i>서울시 동대문구 용두동 232-26</span>\\r\\n\\t\\t\\t\\t<span class=\"icons\">\\r\\n\\t\\t\\t\\t\\t\\t\\t\\t\\t\\t                    \\t\\t\\t\\t</span>\\r\\n\\t\\t\\t</a>\\r\\n\\t\\t\\t<p class=\"favor-review\">\\r\\n\\t\\t\\t\\t<span class=\"favor button\" onClick=\"setFavorites(\\'restaurant\\', \\'Wphn9urf9Crj\\', this);\" value=\"Y\">372</span>\\r\\n\\t\\t\\t\\t<span class=\"review button\" onClick=\"getReview(\\'Wphn9urf9Crj\\');\">39</span>\\r\\n\\t\\t\\t\\t<span class=\"point\">79점</span>\\r\\n\\t\\t\\t\\t\\t\\t\\t</p>\\r\\n\\t\\t</li>\\r\\n\\t\\t\\t<li onMouseEnter=\"setIcon(3);\">\\r\\n\\t\\t\\t<a href=\"/profile.php?rid=1246iEICOgZS\" class=\"blink\" target=\"_blank\">\\r\\n\\t\\t\\t\\t<span class=\"img\" style=\"overflow:hidden; background:url(\\'https://s3-ap-northeast-1.amazonaws.com/dcreviewsresized/300_300_20210308125707_photo1_686746584e70.jpg\\') no-repeat; background-size:auto 100px; background-position:center;\"></span>\\r\\n\\t\\t\\t\\t<span class=\"btxt\">3. 함양집</span>\\r\\n\\t\\t\\t\\t<span class=\"stxt\">한우물회, 치즈불고기, <strong>육회</strong></span>\\r\\n\\t\\t\\t\\t<span class=\"ctxt\">2019대표맛집, 가족외식, 무료주차</span>\\r\\n\\t\\t\\t\\t<span class=\"ctxt\"><i class=\"loca\">경주</i>경상북도 경주시 북군동 194-15</span>\\r\\n\\t\\t\\t\\t<span class=\"icons\">\\r\\n\\t\\t\\t\\t\\t\\t\\t\\t\\t\\t                    \\t\\t\\t\\t</span>\\r\\n\\t\\t\\t</a>\\r\\n\\t\\t\\t<p class=\"favor-review\">\\r\\n\\t\\t\\t\\t<span class=\"favor button\" onClick=\"setFavorites(\\'restaurant\\', \\'1246iEICOgZS\\', this);\" value=\"Y\">437</span>\\r\\n\\t\\t\\t\\t<span class=\"review button\" onClick=\"getReview(\\'1246iEICOgZS\\');\">60</span>\\r\\n\\t\\t\\t\\t<span class=\"point\">78점</span>\\r\\n\\t\\t\\t\\t\\t\\t\\t</p>\\r\\n\\t\\t</li>\\r\\n\\t        \\t<!-- 2021-01-06 수정 시작 -->\\r\\n          <!-- <li style=\"text-align: center;padding-top: 20px;\"> -->\\r\\n          <li>\\r\\n            <div class=\"outer_ads\" style=\"max-height: 300px;margin: 0 20px;padding: 20px 0;border-bottom: 1px solid #e6e6e6;\">\\r\\n              <div class=\"grp_ads\" style=\"position: relative; width: 413px;margin: 0 auto;\">\\r\\n                <div class=\"inner_ads\">\\r\\n                  <ins class=\"adsbygoogle\"\\r\\n     style=\"display: block;\"\\r\\n     data-ad-client=\"ca-pub-1272248965614830\"\\r\\n     data-ad-slot=\"8057278175\"\\r\\n     data-ad-format=\"auto\"\\r\\n     data-full-width-responsive=\"true\"></ins>\\r\\n                  <script>\\r\\n                    (adsbygoogle = window.adsbygoogle || []).push({});\\r\\n                  </script>\\r\\n                </div>\\r\\n              </div>\\r\\n            </div>\\r\\n          </li>\\r\\n          <!-- // 2021-01-06 수정 끝 -->\\r\\n    \\t\\t<li onMouseEnter=\"setIcon(4);\">\\r\\n\\t\\t\\t<a href=\"/profile.php?rid=njPwkrsv7oFr\" class=\"blink\" target=\"_blank\">\\r\\n\\t\\t\\t\\t<span class=\"img\" style=\"overflow:hidden; background:url(\\'https://s3-ap-northeast-1.amazonaws.com/dcreviewsresized/300_300_20200617121021_photo1_4190537b5b1e.jpg\\') no-repeat; background-size:auto 100px; background-position:center;\"></span>\\r\\n\\t\\t\\t\\t<span class=\"btxt\">4. 새벽집</span>\\r\\n\\t\\t\\t\\t<span class=\"stxt\"><strong>육회비빔밥</strong>, 갈비탕, <strong>육회</strong></span>\\r\\n\\t\\t\\t\\t<span class=\"ctxt\">수요미식회, 가족외식, 발렛파킹</span>\\r\\n\\t\\t\\t\\t<span class=\"ctxt\"><i class=\"loca\">청담동</i>서울특별시 강남구 청담동 129-10</span>\\r\\n\\t\\t\\t\\t<span class=\"icons\">\\r\\n\\t\\t\\t\\t\\t\\t\\t\\t\\t\\t                    \\t\\t\\t\\t</span>\\r\\n\\t\\t\\t</a>\\r\\n\\t\\t\\t<p class=\"favor-review\">\\r\\n\\t\\t\\t\\t<span class=\"favor button\" onClick=\"setFavorites(\\'restaurant\\', \\'njPwkrsv7oFr\\', this);\" value=\"Y\">854</span>\\r\\n\\t\\t\\t\\t<span class=\"review button\" onClick=\"getReview(\\'njPwkrsv7oFr\\');\">47</span>\\r\\n\\t\\t\\t\\t<span class=\"point\">77점</span>\\r\\n\\t\\t\\t\\t\\t\\t\\t</p>\\r\\n\\t\\t</li>\\r\\n\\t\\t\\t<li onMouseEnter=\"setIcon(5);\">\\r\\n\\t\\t\\t<a href=\"/profile.php?rid=K3iXcJmmleWB\" class=\"blink\" target=\"_blank\">\\r\\n\\t\\t\\t\\t<span class=\"img\" style=\"overflow:hidden; background:url(\\'https://s3-ap-northeast-1.amazonaws.com/dcreviewsresized/300_300_20210401091159303_photo_7ad8692ea75e.jpg\\') no-repeat; background-size:auto 100px; background-position:center;\"></span>\\r\\n\\t\\t\\t\\t<span class=\"btxt\">5. 부촌육회</span>\\r\\n\\t\\t\\t\\t<span class=\"stxt\"><strong>육회</strong>, <strong>육회비빔밥</strong></span>\\r\\n\\t\\t\\t\\t<span class=\"ctxt\">다코매거진선정, 술모임, 제로페이</span>\\r\\n\\t\\t\\t\\t<span class=\"ctxt\"><i class=\"loca\">광장시장</i>서울특별시 종로구 종로4가 165-11</span>\\r\\n\\t\\t\\t\\t<span class=\"icons\">\\r\\n\\t\\t\\t\\t\\t\\t\\t\\t\\t\\t                    \\t\\t\\t\\t</span>\\r\\n\\t\\t\\t</a>\\r\\n\\t\\t\\t<p class=\"favor-review\">\\r\\n\\t\\t\\t\\t<span class=\"favor button\" onClick=\"setFavorites(\\'restaurant\\', \\'K3iXcJmmleWB\\', this);\" value=\"Y\">135</span>\\r\\n\\t\\t\\t\\t<span class=\"review button\" onClick=\"getReview(\\'K3iXcJmmleWB\\');\">35</span>\\r\\n\\t\\t\\t\\t<span class=\"point\">74점</span>\\r\\n\\t\\t\\t\\t\\t\\t\\t</p>\\r\\n\\t\\t</li>\\r\\n\\t\\t\\t<li onMouseEnter=\"setIcon(6);\">\\r\\n\\t\\t\\t<a href=\"/profile.php?rid=efzYNyiMfhzH\" class=\"blink\" target=\"_blank\">\\r\\n\\t\\t\\t\\t<span class=\"img\" style=\"overflow:hidden; background:url(\\'https://s3-ap-northeast-1.amazonaws.com/dcreviewsresized/300_300_20210131100150_photo1_a424a96149b9.jpg\\') no-repeat; background-size:auto 100px; background-position:center;\"></span>\\r\\n\\t\\t\\t\\t<span class=\"btxt\">6. 안주마을</span>\\r\\n\\t\\t\\t\\t<span class=\"stxt\">감자전, 계란찜, <strong>육회</strong></span>\\r\\n\\t\\t\\t\\t<span class=\"ctxt\">다코매거진선정, 술모임, 서민적인</span>\\r\\n\\t\\t\\t\\t<span class=\"ctxt\"><i class=\"loca\">서촌</i>서울특별시 종로구 내자동 1-2</span>\\r\\n\\t\\t\\t\\t<span class=\"icons\">\\r\\n\\t\\t\\t\\t\\t\\t\\t\\t\\t\\t                    \\t\\t\\t\\t</span>\\r\\n\\t\\t\\t</a>\\r\\n\\t\\t\\t<p class=\"favor-review\">\\r\\n\\t\\t\\t\\t<span class=\"favor button\" onClick=\"setFavorites(\\'restaurant\\', \\'efzYNyiMfhzH\\', this);\" value=\"Y\">191</span>\\r\\n\\t\\t\\t\\t<span class=\"review button\" onClick=\"getReview(\\'efzYNyiMfhzH\\');\">16</span>\\r\\n\\t\\t\\t\\t<span class=\"point\">73점</span>\\r\\n\\t\\t\\t\\t\\t\\t\\t</p>\\r\\n\\t\\t</li>\\r\\n\\t\\t\\t<li onMouseEnter=\"setIcon(7);\">\\r\\n\\t\\t\\t<a href=\"/profile.php?rid=WFvQsuUd9OXQ\" class=\"blink\" target=\"_blank\">\\r\\n\\t\\t\\t\\t<span class=\"img\" style=\"overflow:hidden; background:url(\\'https://s3-ap-northeast-1.amazonaws.com/dcreviewsresized/300_300_20210308111024_photo1_m9NWMCqffilr.jpg\\') no-repeat; background-size:auto 100px; background-position:center;\"></span>\\r\\n\\t\\t\\t\\t<span class=\"btxt\">7. 언양 기와집 불고기</span>\\r\\n\\t\\t\\t\\t<span class=\"stxt\">언양불고기, <strong>육회</strong></span>\\r\\n\\t\\t\\t\\t<span class=\"ctxt\">2019대표맛집, 가족외식, 무료주차</span>\\r\\n\\t\\t\\t\\t<span class=\"ctxt\"><i class=\"loca\">울산언양</i>울산광역시 울주군 언양읍 서부리 11-1</span>\\r\\n\\t\\t\\t\\t<span class=\"icons\">\\r\\n\\t\\t\\t\\t\\t\\t\\t\\t\\t\\t                    \\t\\t\\t\\t</span>\\r\\n\\t\\t\\t</a>\\r\\n\\t\\t\\t<p class=\"favor-review\">\\r\\n\\t\\t\\t\\t<span class=\"favor button\" onClick=\"setFavorites(\\'restaurant\\', \\'WFvQsuUd9OXQ\\', this);\" value=\"Y\">205</span>\\r\\n\\t\\t\\t\\t<span class=\"review button\" onClick=\"getReview(\\'WFvQsuUd9OXQ\\');\">23</span>\\r\\n\\t\\t\\t\\t<span class=\"point\">69점</span>\\r\\n\\t\\t\\t\\t\\t\\t\\t</p>\\r\\n\\t\\t</li>\\r\\n\\t\\t\\t<li onMouseEnter=\"setIcon(8);\">\\r\\n\\t\\t\\t<a href=\"/profile.php?rid=dUCVzDEFuKSu\" class=\"blink\" target=\"_blank\">\\r\\n\\t\\t\\t\\t<span class=\"img\" style=\"overflow:hidden; background:url(\\'https://s3-ap-northeast-1.amazonaws.com/dcreviewsresized/300_300_20200419110600_photo1_4h6kozRpeLrH.jpg\\') no-repeat; background-size:auto 100px; background-position:center;\"></span>\\r\\n\\t\\t\\t\\t<span class=\"btxt\">8. 무수옥</span>\\r\\n\\t\\t\\t\\t<span class=\"stxt\">설렁탕, <strong>육회비빔밥</strong>, <strong>육회</strong></span>\\r\\n\\t\\t\\t\\t<span class=\"ctxt\">수요미식회, 가족외식, 무료주차</span>\\r\\n\\t\\t\\t\\t<span class=\"ctxt\"><i class=\"loca\">도봉동</i>서울특별시 도봉구 도봉동 600-4</span>\\r\\n\\t\\t\\t\\t<span class=\"icons\">\\r\\n\\t\\t\\t\\t\\t\\t\\t\\t\\t\\t                    \\t\\t\\t\\t</span>\\r\\n\\t\\t\\t</a>\\r\\n\\t\\t\\t<p class=\"favor-review\">\\r\\n\\t\\t\\t\\t<span class=\"favor button\" onClick=\"setFavorites(\\'restaurant\\', \\'dUCVzDEFuKSu\\', this);\" value=\"Y\">269</span>\\r\\n\\t\\t\\t\\t<span class=\"review button\" onClick=\"getReview(\\'dUCVzDEFuKSu\\');\">23</span>\\r\\n\\t\\t\\t\\t<span class=\"point\">68점</span>\\r\\n\\t\\t\\t\\t\\t\\t\\t</p>\\r\\n\\t\\t</li>\\r\\n\\t\\t\\t<li onMouseEnter=\"setIcon(9);\">\\r\\n\\t\\t\\t<a href=\"/profile.php?rid=wMWmpwgnAl79\" class=\"blink\" target=\"_blank\">\\r\\n\\t\\t\\t\\t<span class=\"img\" style=\"overflow:hidden; background:url(\\'https://s3-ap-northeast-1.amazonaws.com/dcreviewsresized/300_300_20200628033709116_photo_fabc48758b07.jpg\\') no-repeat; background-size:auto 100px; background-position:center;\"></span>\\r\\n\\t\\t\\t\\t<span class=\"btxt\">9. 송정떡갈비</span>\\r\\n\\t\\t\\t\\t<span class=\"stxt\">떡갈비, <strong>육회비빔밥</strong>, <strong>육회</strong></span>\\r\\n\\t\\t\\t\\t<span class=\"ctxt\">2019대표맛집, 식사모임, 무료주차</span>\\r\\n\\t\\t\\t\\t<span class=\"ctxt\"><i class=\"loca\">광주송정</i>광주시 광산구 송정2동 826-3</span>\\r\\n\\t\\t\\t\\t<span class=\"icons\">\\r\\n\\t\\t\\t\\t\\t\\t\\t\\t\\t\\t                    \\t\\t\\t\\t</span>\\r\\n\\t\\t\\t</a>\\r\\n\\t\\t\\t<p class=\"favor-review\">\\r\\n\\t\\t\\t\\t<span class=\"favor button\" onClick=\"setFavorites(\\'restaurant\\', \\'wMWmpwgnAl79\\', this);\" value=\"Y\">159</span>\\r\\n\\t\\t\\t\\t<span class=\"review button\" onClick=\"getReview(\\'wMWmpwgnAl79\\');\">12</span>\\r\\n\\t\\t\\t\\t<span class=\"point\">67점</span>\\r\\n\\t\\t\\t\\t\\t\\t\\t</p>\\r\\n\\t\\t</li>\\r\\n\\t\\t\\t<li onMouseEnter=\"setIcon(10);\">\\r\\n\\t\\t\\t<a href=\"/profile.php?rid=kx7bxsyjC9Ew\" class=\"blink\" target=\"_blank\">\\r\\n\\t\\t\\t\\t<span class=\"img\" style=\"overflow:hidden; background:url(\\'https://s3-ap-northeast-1.amazonaws.com/dcreviewsresized/300_300_20210405075659_photo1_8167677144d8.jpg\\') no-repeat; background-size:auto 100px; background-position:center;\"></span>\\r\\n\\t\\t\\t\\t<span class=\"btxt\">10. 태평소국밥 봉명점</span>\\r\\n\\t\\t\\t\\t<span class=\"stxt\">소국밥, 육사시미, <strong>육회</strong></span>\\r\\n\\t\\t\\t\\t<span class=\"ctxt\">다코매거진선정, 혼밥, 무료주차</span>\\r\\n\\t\\t\\t\\t<span class=\"ctxt\"><i class=\"loca\">유성</i>대전광역시 유성구 봉명동 682-2</span>\\r\\n\\t\\t\\t\\t<span class=\"icons\">\\r\\n\\t\\t\\t\\t\\t\\t\\t\\t\\t\\t                    \\t\\t\\t\\t</span>\\r\\n\\t\\t\\t</a>\\r\\n\\t\\t\\t<p class=\"favor-review\">\\r\\n\\t\\t\\t\\t<span class=\"favor button\" onClick=\"setFavorites(\\'restaurant\\', \\'kx7bxsyjC9Ew\\', this);\" value=\"Y\">88</span>\\r\\n\\t\\t\\t\\t<span class=\"review button\" onClick=\"getReview(\\'kx7bxsyjC9Ew\\');\">28</span>\\r\\n\\t\\t\\t\\t<span class=\"point\">67점</span>\\r\\n\\t\\t\\t\\t\\t\\t\\t</p>\\r\\n\\t\\t</li>\\r\\n\\t<script type=\"Text/JavaScript\">\\r\\n\\r\\n    if($(\"#ad-area-1\").length > 0) {\\r\\n        var jData\\t= \\'{\"mode\" : \"NEW\", \"ad_inven\" : \"ad_list\", \"type\" : \"list\"\\';\\r\\n            jData  += \\', \"ad_query\" : \"육회\", \"param\" : \"query=%EC%9C%A1%ED%9A%8C\"\\';\\r\\n        jData\\t   += \\'}\\';\\r\\n\\r\\n        $.ajax({\\r\\n            url : \\'/2018/ajax/ad.php\\',\\r\\n            type : \\'post\\',\\r\\n            dataType : \\'json\\',\\r\\n            data : {\\r\\n                \\'jData\\' : jData\\r\\n            },\\r\\n            success : function(rtn) {\\r\\n                $(\"#ad-area-1\").html(rtn.data);\\r\\n            }\\r\\n        });\\r\\n    }\\r\\n\\r\\nvar jMap\\t= JSON.parse(\\'[{\"v_rid\":\"UnXnkSGX0rKP\",\"image\":\"https:\\\\/\\\\/s3-ap-northeast-1.amazonaws.com\\\\/dcreviewsresized\\\\/300_300_20210404104216796_photo_3d185e226925.jpg\",\"rn\":\"\\\\uc721\\\\ud68c\\\\uc790\\\\ub9e4\\\\uc9d1\",\"area\":\"\\\\uad11\\\\uc7a5\\\\uc2dc\\\\uc7a5\",\"address\":\"\\\\uc11c\\\\uc6b8\\\\ud2b9\\\\ubcc4\\\\uc2dc \\\\uc885\\\\ub85c\\\\uad6c \\\\uc885\\\\ub85c4\\\\uac00 177\",\"score\":87,\"lat\":\"37.570603\",\"lng\":\"126.999923\",\"no\":1},{\"v_rid\":\"Wphn9urf9Crj\",\"image\":\"https:\\\\/\\\\/s3-ap-northeast-1.amazonaws.com\\\\/dcreviewsresized\\\\/300_300_20210312060205_photo1_f7c1425b9393.jpg\",\"rn\":\"\\\\uc5b4\\\\uba38\\\\ub2c8 \\\\ub300\\\\uc131\\\\uc9d1\",\"area\":\"\\\\uc6a9\\\\ub450\\\\ub3d9\",\"address\":\"\\\\uc11c\\\\uc6b8\\\\uc2dc \\\\ub3d9\\\\ub300\\\\ubb38\\\\uad6c \\\\uc6a9\\\\ub450\\\\ub3d9 232-26\",\"score\":79,\"lat\":\"37.577480\",\"lng\":\"127.028589\",\"no\":2},{\"v_rid\":\"1246iEICOgZS\",\"image\":\"https:\\\\/\\\\/s3-ap-northeast-1.amazonaws.com\\\\/dcreviewsresized\\\\/300_300_20210308125707_photo1_686746584e70.jpg\",\"rn\":\"\\\\ud568\\\\uc591\\\\uc9d1\",\"area\":\"\\\\uacbd\\\\uc8fc\",\"address\":\"\\\\uacbd\\\\uc0c1\\\\ubd81\\\\ub3c4 \\\\uacbd\\\\uc8fc\\\\uc2dc \\\\ubd81\\\\uad70\\\\ub3d9 194-15\",\"score\":78,\"lat\":\"35.852033\",\"lng\":\"129.262229\",\"no\":3},{\"v_rid\":\"njPwkrsv7oFr\",\"image\":\"https:\\\\/\\\\/s3-ap-northeast-1.amazonaws.com\\\\/dcreviewsresized\\\\/300_300_20200617121021_photo1_4190537b5b1e.jpg\",\"rn\":\"\\\\uc0c8\\\\ubcbd\\\\uc9d1\",\"area\":\"\\\\uccad\\\\ub2f4\\\\ub3d9\",\"address\":\"\\\\uc11c\\\\uc6b8\\\\ud2b9\\\\ubcc4\\\\uc2dc \\\\uac15\\\\ub0a8\\\\uad6c \\\\uccad\\\\ub2f4\\\\ub3d9 129-10\",\"score\":77,\"lat\":\"37.525608\",\"lng\":\"127.052773\",\"no\":4},{\"v_rid\":\"K3iXcJmmleWB\",\"image\":\"https:\\\\/\\\\/s3-ap-northeast-1.amazonaws.com\\\\/dcreviewsresized\\\\/300_300_20210401091159303_photo_7ad8692ea75e.jpg\",\"rn\":\"\\\\ubd80\\\\ucd0c\\\\uc721\\\\ud68c\",\"area\":\"\\\\uad11\\\\uc7a5\\\\uc2dc\\\\uc7a5\",\"address\":\"\\\\uc11c\\\\uc6b8\\\\ud2b9\\\\ubcc4\\\\uc2dc \\\\uc885\\\\ub85c\\\\uad6c \\\\uc885\\\\ub85c4\\\\uac00 165-11\",\"score\":74,\"lat\":\"37.570384\",\"lng\":\"126.999924\",\"no\":5},{\"v_rid\":\"efzYNyiMfhzH\",\"image\":\"https:\\\\/\\\\/s3-ap-northeast-1.amazonaws.com\\\\/dcreviewsresized\\\\/300_300_20210131100150_photo1_a424a96149b9.jpg\",\"rn\":\"\\\\uc548\\\\uc8fc\\\\ub9c8\\\\uc744\",\"area\":\"\\\\uc11c\\\\ucd0c\",\"address\":\"\\\\uc11c\\\\uc6b8\\\\ud2b9\\\\ubcc4\\\\uc2dc \\\\uc885\\\\ub85c\\\\uad6c \\\\ub0b4\\\\uc790\\\\ub3d9 1-2\",\"score\":73,\"lat\":\"37.576437\",\"lng\":\"126.972117\",\"no\":6},{\"v_rid\":\"WFvQsuUd9OXQ\",\"image\":\"https:\\\\/\\\\/s3-ap-northeast-1.amazonaws.com\\\\/dcreviewsresized\\\\/300_300_20210308111024_photo1_m9NWMCqffilr.jpg\",\"rn\":\"\\\\uc5b8\\\\uc591 \\\\uae30\\\\uc640\\\\uc9d1 \\\\ubd88\\\\uace0\\\\uae30\",\"area\":\"\\\\uc6b8\\\\uc0b0\\\\uc5b8\\\\uc591\",\"address\":\"\\\\uc6b8\\\\uc0b0\\\\uad11\\\\uc5ed\\\\uc2dc \\\\uc6b8\\\\uc8fc\\\\uad70 \\\\uc5b8\\\\uc591\\\\uc74d \\\\uc11c\\\\ubd80\\\\ub9ac 11-1\",\"score\":69,\"lat\":\"35.565351\",\"lng\":\"129.122321\",\"no\":7},{\"v_rid\":\"dUCVzDEFuKSu\",\"image\":\"https:\\\\/\\\\/s3-ap-northeast-1.amazonaws.com\\\\/dcreviewsresized\\\\/300_300_20200419110600_photo1_4h6kozRpeLrH.jpg\",\"rn\":\"\\\\ubb34\\\\uc218\\\\uc625\",\"area\":\"\\\\ub3c4\\\\ubd09\\\\ub3d9\",\"address\":\"\\\\uc11c\\\\uc6b8\\\\ud2b9\\\\ubcc4\\\\uc2dc \\\\ub3c4\\\\ubd09\\\\uad6c \\\\ub3c4\\\\ubd09\\\\ub3d9 600-4\",\"score\":68,\"lat\":\"37.677156\",\"lng\":\"127.044184\",\"no\":8},{\"v_rid\":\"wMWmpwgnAl79\",\"image\":\"https:\\\\/\\\\/s3-ap-northeast-1.amazonaws.com\\\\/dcreviewsresized\\\\/300_300_20200628033709116_photo_fabc48758b07.jpg\",\"rn\":\"\\\\uc1a1\\\\uc815\\\\ub5a1\\\\uac08\\\\ube44\",\"area\":\"\\\\uad11\\\\uc8fc\\\\uc1a1\\\\uc815\",\"address\":\"\\\\uad11\\\\uc8fc\\\\uc2dc \\\\uad11\\\\uc0b0\\\\uad6c \\\\uc1a1\\\\uc8152\\\\ub3d9 826-3\",\"score\":67,\"lat\":\"35.138937\",\"lng\":\"126.794845\",\"no\":9},{\"v_rid\":\"kx7bxsyjC9Ew\",\"image\":\"https:\\\\/\\\\/s3-ap-northeast-1.amazonaws.com\\\\/dcreviewsresized\\\\/300_300_20210405075659_photo1_8167677144d8.jpg\",\"rn\":\"\\\\ud0dc\\\\ud3c9\\\\uc18c\\\\uad6d\\\\ubc25 \\\\ubd09\\\\uba85\\\\uc810\",\"area\":\"\\\\uc720\\\\uc131\",\"address\":\"\\\\ub300\\\\uc804\\\\uad11\\\\uc5ed\\\\uc2dc \\\\uc720\\\\uc131\\\\uad6c \\\\ubd09\\\\uba85\\\\ub3d9 682-2\",\"score\":67,\"lat\":\"36.357456\",\"lng\":\"127.350206\",\"no\":10}]\\');\\r\\n</script>\\r\\n\\r\\n\\r\\n\\t\\t\\t\\t\\t\\t</ul>\\r\\n\\t\\t\\t\\t\\t</div>\\r\\n\\r\\n\\t\\t\\t\\t\\t\\r\\n\\t\\t\\t\\t\\t\\t\\t\\t\\t\\t<div id=\"div_list_more\" class=\"list-more-btn type03\" style=\"position:relative\">\\r\\n\\t\\t\\t\\t\\t\\t<span class=\"more-btn\" onclick=\"getMoreList();\" style=\"cursor:pointer;\"><span>더보기</span> <img src=\"https://s3-ap-northeast-1.amazonaws.com/dcicons/new/images/web/common/list-more-down@2x.png\" style=\"width:20px;height:20px;\"></span>\\r\\n\\t\\t\\t\\t\\t</div>\\r\\n\\t\\t\\t\\t\\t\\t\\t\\t\\t\\t<div style=\"height:50px;\"></div>\\r\\n\\t\\t\\t\\t</div>\\r\\n\\t\\t\\t\\t<!-- e:지도검색 왼쪽 컨텐츠-->\\r\\n\\r\\n\\t\\t\\t\\t<!-- Naver map -->\\r\\n                <div id=\"map-area-wrap\" style=\"position:relative\">\\r\\n                    <div id=\"div_map\" class=\"maploca-cont\">\\r\\n                                                    <button id=\"btn_research\" style=\"position:absolute; z-index:120; margin:20px; width:120px; height:40px; border-radius:2px; background-color:#FFFFFF; box-shadow: 0 1px 2px 0 rgba(0, 0, 0, 0.1); font-size:13px; color:#2483FF;\">이 지역 재검색</button>\\r\\n                                            </div>\\r\\n                    <!-- 2021-01-06 수정 시작 -->\\r\\n                    <!--\\r\\n                    <div style=\"width:728px;height:90px;position:absolute;left:calc(50% - 364px);bottom:30px;\">\\r\\n                        <div style=\"position:relative\">\\r\\n                            <span id=\"\" style=\"font-weight:bold;display:none;position:absolute;right:0px;top:0px;cursor:pointer;background:#fff;padding:5px 5px;font-size:10px;line-height:10px;z-index:1;\"  onclick=\"$(this).parent().parent().hide();\">X</span>\\r\\n                            <ins class=\"adsbygoogle list-google-ad-area\"\\r\\n                             style=\"display:inline-block;min-width:200px;width:100%;max-width:970px;height:90px;\"\\r\\n                             data-ad-client=\"ca-pub-1272248965614830\"\\r\\n                             data-ad-slot=\"9491612911\"></ins>                        </div>\\r\\n                    </div>\\r\\n                    -->\\r\\n                    <div class=\"outer_ads\" style=\"position: fixed;right: 51px;bottom: 30px;left: 483px;\">\\r\\n                        <div class=\"grp_ads\">\\r\\n                    \\t\\t<div class=\"inner_ads\" style=\"text-align:center;position:relative;\">\\r\\n                                <div style=\"margin:0 auto;width:970px;position:relative\"><span style=\"font-weight:bold;display:block;position:absolute;right:0px;top:0px;cursor:pointer;background:#fff;padding:5px 5px;font-size:10px;line-height:10px;z-index:99;\"  onclick=\"$(this).parent().parent().hide();\">X</span>\\r\\n                                </div>\\r\\n                                <ins class=\"adsbygoogle list-google-ad-area\"\\r\\n                             style=\"display:inline-block;min-width:200px;width:100%;max-width:970px;height:90px;\"\\r\\n                             data-ad-client=\"ca-pub-1272248965614830\"\\r\\n                             data-ad-slot=\"9491612911\"></ins>                    \\t\\t</div>\\r\\n                    \\t</div>\\r\\n                    </div>\\r\\n                    <!-- // 2021-01-06 수정 끝 -->\\r\\n                </div>\\r\\n\\t\\t\\t\\t<!-- // page-end -->\\r\\n\\t\\t\\t</div>\\r\\n\\t\\t\\t<!-- e: contents //-->\\r\\n\\t\\t</div>\\r\\n\\t\\t<!-- e: #container-wrap //-->\\r\\n</div>\\r\\n<!-- e: .doc-pg //-->\\r\\n</div>\\r\\n<!-- e: #doc //-->\\r\\n\\r\\n</body>\\r\\n</html>\\r\\n'"
      ]
     },
     "execution_count": 11,
     "metadata": {},
     "output_type": "execute_result"
    }
   ],
   "source": [
    "# HTTP 응답 Body를 문자열(str)로 출력합니다.\n",
    "res.text"
   ]
  },
  {
   "cell_type": "code",
   "execution_count": 12,
   "metadata": {},
   "outputs": [
    {
     "data": {
      "text/plain": [
       "str"
      ]
     },
     "execution_count": 12,
     "metadata": {},
     "output_type": "execute_result"
    }
   ],
   "source": [
    "# res.text의 클래스를 확인합니다.\n",
    "type(res.text)"
   ]
  },
  {
   "cell_type": "markdown",
   "metadata": {},
   "source": [
    "## 필요한 데이터 수집\n",
    "\n",
    "- HTTP 응답 Body는 str이지만, 필요한 데이터만 선택하려면 HTML로 변경해야 합니다.\n",
    "- HTML Parsing은 구문을 분석하여 트리 구조를 생성하는 것을 의미합니다."
   ]
  },
  {
   "cell_type": "markdown",
   "metadata": {},
   "source": [
    "### HTML Parsing"
   ]
  },
  {
   "cell_type": "code",
   "execution_count": null,
   "metadata": {},
   "outputs": [],
   "source": [
    "# 관련 라이브러리를 호출합니다.\n",
    "from bs4 import BeautifulSoup as bts"
   ]
  },
  {
   "cell_type": "code",
   "execution_count": null,
   "metadata": {},
   "outputs": [],
   "source": [
    "# str 자료형을 bs4.BeautifulSoup 자료형으로 변환합니다.\n",
    "# [참고] bs4.BeautifulSoup 자료형으로 변환되면 HTML 요소를 쉽게 찾을 수 있습니다.\n",
    "soup = bts(markup = res.text, features = 'html.parser')"
   ]
  },
  {
   "cell_type": "code",
   "execution_count": null,
   "metadata": {},
   "outputs": [],
   "source": [
    "# soup의 클래스를 확인합니다.\n",
    "type(soup)"
   ]
  },
  {
   "cell_type": "code",
   "execution_count": null,
   "metadata": {},
   "outputs": [],
   "source": [
    "# soup을 출력합니다.\n",
    "soup"
   ]
  },
  {
   "cell_type": "markdown",
   "metadata": {},
   "source": [
    "### HTML의 텍스트를 리스트로 저장하는 사용자 정의 함수 생성"
   ]
  },
  {
   "cell_type": "code",
   "execution_count": null,
   "metadata": {},
   "outputs": [],
   "source": [
    "# 식당의 기본 정보를 포함하는 HTML 요소를 선택하고 items에 할당합니다.\n",
    "# [참고] select() 방식에 css selector를 지정하면 해당 HTML 요소만 선택합니다.\n",
    "# [참고] HTML 요소는 크롬 개발자도구의 Elements 탭에서 찾습니다.\n",
    "items = soup.select(selector = 'ul#div_list > li > a')"
   ]
  },
  {
   "cell_type": "code",
   "execution_count": null,
   "metadata": {},
   "outputs": [],
   "source": [
    "# items의 길이를 확인합니다.\n",
    "len(items)"
   ]
  },
  {
   "cell_type": "code",
   "execution_count": null,
   "metadata": {},
   "outputs": [],
   "source": [
    "# items의 첫 번째 원소만 출력합니다.\n",
    "items[0]"
   ]
  },
  {
   "cell_type": "code",
   "execution_count": null,
   "metadata": {},
   "outputs": [],
   "source": [
    "# 크롬 개발자도구에서 식당명을 포함하는 HTML 요소를 찾아 css에 할당합니다.\n",
    "css = 'span.btxt'"
   ]
  },
  {
   "cell_type": "code",
   "execution_count": null,
   "metadata": {},
   "outputs": [],
   "source": [
    "# items의 첫 번째 원소에서 css로 식당명을 선택합니다.\n",
    "# [참고] 코드 실행 결과가 리스트로 반환됩니다.\n",
    "# 실제로는 bs4.element.ResultSet 자료형입니다.\n",
    "items[0].select(selector = css)"
   ]
  },
  {
   "cell_type": "code",
   "execution_count": null,
   "metadata": {},
   "outputs": [],
   "source": [
    "# 위 코드를 실행한 결과의 클래스를 확인합니다.\n",
    "type(items[0].select(selector = css))"
   ]
  },
  {
   "cell_type": "code",
   "execution_count": null,
   "metadata": {},
   "outputs": [],
   "source": [
    "# 위 코드를 실행한 결과의 첫 번째 원소의 클래스를 확인합니다.\n",
    "type(items[0].select(selector = css)[0])"
   ]
  },
  {
   "cell_type": "code",
   "execution_count": null,
   "metadata": {},
   "outputs": [],
   "source": [
    "# 첫 번째 원소에서 텍스트만 반환합니다.\n",
    "# [참고] Tag.text 또는 Tag.get_text() 방식은 텍스트를 반환합니다.\n",
    "items[0].select(selector = css)[0].text"
   ]
  },
  {
   "cell_type": "code",
   "execution_count": null,
   "metadata": {},
   "outputs": [],
   "source": [
    "# 리스트 컴프리헨션을 이용하여 items의 모든 원소에 포함된 식당명을 리스트로 반환합니다.\n",
    "[item.select(selector = css)[0].text for item in items]"
   ]
  },
  {
   "cell_type": "code",
   "execution_count": null,
   "metadata": {},
   "outputs": [],
   "source": [
    "# 리스트 컴프리헨션을 사용하여 HTML 요소의 텍스트를 반환하는 사용자 정의 함수를 생성합니다.\n",
    "# [참고] 사용자 정의 함수를 'getHtmlData.py' 파일로 저장하여 필요할 때마다 호출합니다.\n",
    "def getText(x, css):\n",
    "    return [i.select(selector = css)[0].text for i in x]"
   ]
  },
  {
   "cell_type": "markdown",
   "metadata": {},
   "source": [
    "### 식당의 기본 정보 수집"
   ]
  },
  {
   "cell_type": "code",
   "execution_count": null,
   "metadata": {},
   "outputs": [],
   "source": [
    "# 식당명을 리스트로 저장합니다.\n",
    "name = getText(x = items, css = 'span.btxt')\n",
    "print(name)"
   ]
  },
  {
   "cell_type": "code",
   "execution_count": null,
   "metadata": {},
   "outputs": [],
   "source": [
    "# 메뉴를 리스트로 저장합니다.\n",
    "menu = getText(x = items, css = 'span.stxt')\n",
    "print(menu)"
   ]
  },
  {
   "cell_type": "code",
   "execution_count": null,
   "metadata": {},
   "outputs": [],
   "source": [
    "# 한 줄 소개를 리스트로 저장합니다.\n",
    "feat = getText(x = items, css = 'span.ctxt')\n",
    "print(feat)"
   ]
  },
  {
   "cell_type": "code",
   "execution_count": null,
   "metadata": {},
   "outputs": [],
   "source": [
    "# 주소를 리스트로 저장합니다.\n",
    "# [참고] 주소를 포함하는 HTML 요소 'span.ctxt'가 중복됩니다.\n",
    "# 따라서 span:nth-child(5)를 대신 사용해야 합니다.\n",
    "# Windows는 nth-child() 대신 nth-of-type()을 사용합니다.\n",
    "addr = getText(x = items, css = 'span:nth-of-type(5)')\n",
    "print(addr)"
   ]
  },
  {
   "cell_type": "code",
   "execution_count": null,
   "metadata": {},
   "outputs": [],
   "source": [
    "# 주소에서 상권만 별도로 선택하여 리스트로 저장합니다.\n",
    "# [참고] 상권은 i 태그에 포함되어 있습니다.\n",
    "area = getText(x = items, css = 'span:nth-of-type(5) > i')\n",
    "print(area)"
   ]
  },
  {
   "cell_type": "code",
   "execution_count": null,
   "metadata": {},
   "outputs": [],
   "source": [
    "# 주소를 포함하는 HTML 요소에서 i 태그만 삭제하여 items를 업데이트합니다.\n",
    "# [참고] decompose()는 해당 HTML 요소를 삭제한 결과를 재할당합니다.\n",
    "css = 'span:nth-of-type(5) > i'\n",
    "[item.select(selector = css)[0].decompose() for item in items]"
   ]
  },
  {
   "cell_type": "code",
   "execution_count": null,
   "metadata": {},
   "outputs": [],
   "source": [
    "# items의 첫 번째 원소만 다시 출력해보면 i 태그가 삭제되었습니다.\n",
    "items[0]"
   ]
  },
  {
   "cell_type": "code",
   "execution_count": null,
   "metadata": {},
   "outputs": [],
   "source": [
    "# 주소를 리스트로 저장합니다.\n",
    "addr = getText(x = items, css = 'span:nth-of-type(5)')\n",
    "print(addr)"
   ]
  },
  {
   "cell_type": "markdown",
   "metadata": {},
   "source": [
    "### 식당의 평가 정보 수집"
   ]
  },
  {
   "cell_type": "code",
   "execution_count": null,
   "metadata": {},
   "outputs": [],
   "source": [
    "# 식당의 평가 정보를 포함하는 HTML 요소만 선택하고 rates에 할당합니다.\n",
    "rates = soup.select(selector = 'ul#div_list > li > p')"
   ]
  },
  {
   "cell_type": "code",
   "execution_count": null,
   "metadata": {},
   "outputs": [],
   "source": [
    "# rates의 길이를 확인합니다.\n",
    "len(rates)"
   ]
  },
  {
   "cell_type": "code",
   "execution_count": null,
   "metadata": {},
   "outputs": [],
   "source": [
    "# 하트 개수를 리스트로 저장합니다.\n",
    "favor = getText(x = rates, css = 'span.favor')\n",
    "print(favor)"
   ]
  },
  {
   "cell_type": "code",
   "execution_count": null,
   "metadata": {},
   "outputs": [],
   "source": [
    "# 리뷰 개수를 리스트로 저장합니다.\n",
    "review = getText(x = rates, css = 'span.review')\n",
    "print(review)"
   ]
  },
  {
   "cell_type": "code",
   "execution_count": null,
   "metadata": {},
   "outputs": [],
   "source": [
    "# 평가 점수를 리스트로 저장합니다.\n",
    "point = getText(x = rates, css = 'span.point')\n",
    "print(point)"
   ]
  },
  {
   "cell_type": "markdown",
   "metadata": {},
   "source": [
    "## 데이터프레임으로 저장"
   ]
  },
  {
   "cell_type": "code",
   "execution_count": null,
   "metadata": {},
   "outputs": [],
   "source": [
    "# 관련 라이브러리를 호출합니다.\n",
    "import pandas as pd"
   ]
  },
  {
   "cell_type": "code",
   "execution_count": null,
   "metadata": {},
   "outputs": [],
   "source": [
    "# 수집한 내용을 딕셔너리로 만들고, 데이터프레임을 생성합니다.\n",
    "df = pd.DataFrame(\n",
    "    data = {'이름': name, \n",
    "            '메뉴': menu, \n",
    "            '특징': feat, \n",
    "            '상권': area, \n",
    "            '주소': addr, \n",
    "            '하트': favor, \n",
    "            '리뷰': review, \n",
    "            '점수': point}\n",
    ")"
   ]
  },
  {
   "cell_type": "code",
   "execution_count": null,
   "metadata": {},
   "outputs": [],
   "source": [
    "# 데이터프레임을 출력합니다.\n",
    "df"
   ]
  },
  {
   "cell_type": "markdown",
   "metadata": {},
   "source": [
    "<p style=\"font-family:verdana;font-size:200%;text-align:center;\">End of Document</p>"
   ]
  }
 ],
 "metadata": {
  "kernelspec": {
   "display_name": "Python 3",
   "language": "python",
   "name": "python3"
  },
  "language_info": {
   "codemirror_mode": {
    "name": "ipython",
    "version": 3
   },
   "file_extension": ".py",
   "mimetype": "text/x-python",
   "name": "python",
   "nbconvert_exporter": "python",
   "pygments_lexer": "ipython3",
   "version": "3.7.6"
  },
  "toc": {
   "base_numbering": 1,
   "nav_menu": {},
   "number_sections": true,
   "sideBar": true,
   "skip_h1_title": false,
   "title_cell": "Table of Contents",
   "title_sidebar": "Contents",
   "toc_cell": false,
   "toc_position": {},
   "toc_section_display": true,
   "toc_window_display": false
  },
  "varInspector": {
   "cols": {
    "lenName": 16,
    "lenType": 16,
    "lenVar": 40
   },
   "kernels_config": {
    "python": {
     "delete_cmd_postfix": "",
     "delete_cmd_prefix": "del ",
     "library": "var_list.py",
     "varRefreshCmd": "print(var_dic_list())"
    },
    "r": {
     "delete_cmd_postfix": ") ",
     "delete_cmd_prefix": "rm(",
     "library": "var_list.r",
     "varRefreshCmd": "cat(var_dic_list()) "
    }
   },
   "types_to_exclude": [
    "module",
    "function",
    "builtin_function_or_method",
    "instance",
    "_Feature"
   ],
   "window_display": false
  }
 },
 "nbformat": 4,
 "nbformat_minor": 4
}
