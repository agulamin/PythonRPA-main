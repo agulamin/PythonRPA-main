{
 "cells": [
  {
   "cell_type": "markdown",
   "metadata": {},
   "source": [
    "<p style=\"font-family:verdana;font-size:200%;text-align:center;\">Work Automation</p>"
   ]
  },
  {
   "cell_type": "markdown",
   "metadata": {},
   "source": [
    "- 주식 가격을 수집한 결과를 텔레그램 메신저로 발송하는 py 파일을 생성합니다.\n",
    " - File > Download as > Python(.py)\n",
    " - 다운로드 파일에 py 파일이 저장됩니다.\n",
    "- nncron 프로그램을 이용하여 정기 작업으로 등록합니다."
   ]
  },
  {
   "cell_type": "markdown",
   "metadata": {},
   "source": [
    "## Stock Price Crawling"
   ]
  },
  {
   "cell_type": "code",
   "execution_count": 4,
   "metadata": {},
   "outputs": [],
   "source": [
    "# 관련 라이브러리를 호출합니다.\n",
    "import requests\n",
    "from bs4 import BeautifulSoup as bts\n",
    "\n",
    "# 요청 URL을 설정합니다.\n",
    "url = 'https://finance.naver.com/item/main.nhn?code=034020'\n",
    "\n",
    "# HTTP 요청을 실행합니다.\n",
    "res = requests.get(url = url)\n",
    "\n",
    "# str 자료형을 bs4.BeautifulSoup 자료형으로 변환합니다.\n",
    "soup = bts(markup = res.text, features = 'html.parser')\n",
    "\n",
    "# 현재 주가 정보를 포함하는 HTML 요소만 선택하고 items에 할당합니다.\n",
    "items = soup.select(selector = 'div.today > p.no_today > em > span')\n",
    "\n",
    "# 현재 주가를 price에 할당합니다.\n",
    "price = items[0].text\n",
    "\n",
    "# 현재 주가에서 콤마를 삭제하고 정수형으로 변환합니다.\n",
    "price = int(price.replace(',', ''))"
   ]
  },
  {
   "cell_type": "markdown",
   "metadata": {},
   "source": [
    "## Telegram Messaging"
   ]
  },
  {
   "cell_type": "code",
   "execution_count": 5,
   "metadata": {},
   "outputs": [
    {
     "data": {
      "text/plain": [
       "<telegram.message.Message at 0x25320ff9908>"
      ]
     },
     "execution_count": 5,
     "metadata": {},
     "output_type": "execute_result"
    }
   ],
   "source": [
    "# 관련 라이브러리를 호출합니다.\n",
    "import os\n",
    "import telegram\n",
    "\n",
    "# 텔레그램 토큰이 포함된 텍스트 파일을 읽습니다. (절대경로로 설정해야 합니다.)\n",
    "file = 'C:\\\\Users\\\\kim0m\\\\side_project\\\\PythonRPA-main\\\\data\\\\Telegram_Token.txt'\n",
    "\n",
    "token = open(file = file, mode = 'r').read()\n",
    "\n",
    "# 텔레그램 봇을 설정합니다.\n",
    "bot = telegram.Bot(token = token)\n",
    "\n",
    "# 메시지를 전송할 ChatID를 설정합니다. (직접 입력하세요)\n",
    "chatID = '1633365770'\n",
    "\n",
    "# 전송할 메시지를 생성합니다.\n",
    "text = f'두산 중공업 현재 가격은 {price} 원 입니다'\n",
    "\n",
    "# ChatID에게 메시지를 발송합니다.\n",
    "bot.sendMessage(chat_id = chatID, text = text)"
   ]
  },
  {
   "cell_type": "markdown",
   "metadata": {},
   "source": [
    "<p style=\"font-family:verdana;font-size:200%;text-align:center;\">End of Document</p>"
   ]
  }
 ],
 "metadata": {
  "kernelspec": {
   "display_name": "Python 3",
   "language": "python",
   "name": "python3"
  },
  "language_info": {
   "codemirror_mode": {
    "name": "ipython",
    "version": 3
   },
   "file_extension": ".py",
   "mimetype": "text/x-python",
   "name": "python",
   "nbconvert_exporter": "python",
   "pygments_lexer": "ipython3",
   "version": "3.7.6"
  },
  "toc": {
   "base_numbering": 1,
   "nav_menu": {},
   "number_sections": true,
   "sideBar": true,
   "skip_h1_title": false,
   "title_cell": "Table of Contents",
   "title_sidebar": "Contents",
   "toc_cell": false,
   "toc_position": {},
   "toc_section_display": true,
   "toc_window_display": true
  },
  "varInspector": {
   "cols": {
    "lenName": 16,
    "lenType": 16,
    "lenVar": 40
   },
   "kernels_config": {
    "python": {
     "delete_cmd_postfix": "",
     "delete_cmd_prefix": "del ",
     "library": "var_list.py",
     "varRefreshCmd": "print(var_dic_list())"
    },
    "r": {
     "delete_cmd_postfix": ") ",
     "delete_cmd_prefix": "rm(",
     "library": "var_list.r",
     "varRefreshCmd": "cat(var_dic_list()) "
    }
   },
   "types_to_exclude": [
    "module",
    "function",
    "builtin_function_or_method",
    "instance",
    "_Feature"
   ],
   "window_display": false
  }
 },
 "nbformat": 4,
 "nbformat_minor": 5
}
